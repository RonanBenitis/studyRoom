{
 "cells": [
  {
   "cell_type": "markdown",
   "metadata": {},
   "source": [
    "[Markdown - VSCode, métodos de otimização](https://code.visualstudio.com/docs/languages/markdown) \n",
    "\n",
    "[Markdown - Alura](https://www.alura.com.br/artigos/como-trabalhar-com-markdown)\n",
    "\n",
    "## <span style=\"color: #87BBA2\">==========   CONDIÇÕES EM PYTHON   ==========</span>\n",
    "\n",
    "### <span style=\"color: #87BBA2\">Aula 12: Condições Aninhadas</span>\n",
    "Aninhar: Colocar uma coisa dentro da outra,\n",
    "- Como colocar estruturas condicionais dentro de estruturas condicionais. Isso se chama Condições Aninhadas.\n",
    "- Igual as matrioscas (aquelas bonecas dentro de outras bonecas)\n",
    "\n",
    "#### Sobre Estrutura Condicional Aninhadas\n",
    "Em comparação a estrutura condicional simples, onde pode-se apenas validar entre 1 a 2 condicionais (Se Verdadeiro, ou Se Verdadeiro Senão Falso), a Estrutura Condicional Aninhada possibilita ir além de 2 condições.\n",
    "\n",
    "> Em exemplo visual do \"carrinho na estrada\" apresentado pelo Guanabara, saimos da estrutura condicional simples (duas opções de vias para o mesmo destino) e criou-se uma via no meio, tornando-a uma estrutura aninhada, pois, agora a estrutura é: Na primeira bifurcação (estrutura de Condição) Se virar a esquerda é Verdadeiro, segue a lista de comandos / Se for Falso, depara-se em outra bifurcação (Estrutura de Condição) onde Se virar a esquerda, neste momento, for verdadeiro, segue a condição de Falso na primeira bifurcação e Verdadeiro na segunda / Senão, segue na condição de Falso na primeira bifurcação e Falso na segunda bifurcação ![Exemplo Carro](./image/ExemploCarro.PNG)\n",
    "\n",
    "> Dica: Na hora de programar, nunca se programa pela melhor hipótese somente, é necessário avaliar quais outras possibilidades. No exemplo acima, o caminho mais rápido sem trânsito é o do meio, mas, se o caminho do meio estiver congestionado, existem outras opções.\n",
    "\n",
    "```python\n",
    "# Imagem acima em pseudocódigo\n",
    "carro.siga()\n",
    "se carro.esquerda()\n",
    "    carro.siga()\n",
    "    carro.direta()\n",
    "    carro.siga()\n",
    "    carro.direita()\n",
    "    carro.esquerda()\n",
    "    carro.direita()\n",
    "    carro.siga()\n",
    "senão se carro.direita()\n",
    "    carro.siga()\n",
    "    carro.esquerda()\n",
    "    carro.siga()\n",
    "    carro.esquerda()\n",
    "    carro.siga()\n",
    "senão\n",
    "    carro.siga()\n",
    "carro.para()\n",
    "```\n",
    "\n",
    "**Importante!** Elif (Else if) e If dentro de If são coisas diferentes.\n",
    "- Elif (Else if): Estrutura condicional que inicia quando a estrutura condicional ao qual ela está dentro retorna valor False. Else if é um comando bem direto ao ponto: Existe o If, existe o Else, o Else if é juntar um Else com um If, se o primeiro If for False, entra no Else que inicia o segundo IF.\n",
    "- If dentro de If: Estrutura condicional que inicia quando tem seu valor Verdadeiro, seguido do valor Verdadeiro da estrutura condicional ao qual ela está dentro. Nesse caso, deve-se retornar verdadeira para ambas as condições.\n",
    "\n",
    "\n",
    "```python\n",
    "# Transformando o pseudocódigo em linguagem Python\n",
    "carro.siga()\n",
    "if carro.esquerda():\n",
    "    carro.siga()\n",
    "    carro.direta()\n",
    "    carro.siga()\n",
    "    carro.direita()\n",
    "    carro.esquerda()\n",
    "    carro.direita()\n",
    "    carro.siga()\n",
    "elif carro.direita(): # elif = simplificação da nomenclatura Else If\n",
    "    carro.siga()\n",
    "    carro.esquerda()\n",
    "    carro.siga()\n",
    "    carro.esquerda()\n",
    "    carro.siga()\n",
    "else:\n",
    "    carro.siga()\n",
    "carro.para()\n",
    "```\n",
    "\n",
    "```python\n",
    "# Estrutura comporta quantas condições quisermos\n",
    "if carro.esquerda():\n",
    "    #bloco 1\n",
    "elif carro.direita():\n",
    "    #bloco 2\n",
    "elif carro.ré():\n",
    "    #bloco 3\n",
    "else:\n",
    "    #bloco 4    \n",
    "```"
   ]
  },
  {
   "cell_type": "code",
   "execution_count": 1,
   "metadata": {},
   "outputs": [
    {
     "name": "stdout",
     "output_type": "stream",
     "text": [
      "Belo nome feminino\n",
      "Tenha um bom dia, !\n"
     ]
    }
   ],
   "source": [
    "# Prática!\n",
    "# Estrutura condicional aninhada\n",
    "\n",
    "nome = str(input('Qual é seu nome? '))\n",
    "\n",
    "if nome == 'Ronan':\n",
    "    print('Que nome bonito!')\n",
    "elif nome == 'Pedro' or nome == 'Maria' or nome == 'Paulo':\n",
    "    print('Seu nome é bem popular no Brasil.')\n",
    "elif nome in 'Ana Cláudia Jéssica Juliana': \n",
    "    # Aqui, estamos validando se o nome inserido encontra-se dentro da string 'Ana Cláudia Jéssica Juliana'\n",
    "    # Um bug: Estamos validando se o nome inserido encontra-se em toda essa String. Se o nome for qualquer letra inserida que está nessa string, essa validação retorna Verdadeira. Logo, não é um comportamento desejado, mas, Guanabara deve ter feito isso só para ter um exemplo rápido.\n",
    "    print('Belo nome feminino')\n",
    "else:\n",
    "    # Condição 'else' não é obrigatória\n",
    "    print('Seu nome é bem norma.')\n",
    "print('Tenha um bom dia, {}!'.format(nome))"
   ]
  },
  {
   "cell_type": "markdown",
   "metadata": {},
   "source": [
    "### <span style=\"color: #87BBA2\">==========   Desafios!   ==========</span>"
   ]
  },
  {
   "cell_type": "markdown",
   "metadata": {},
   "source": [
    "#### Desafio 36\n",
    "\n",
    "Escreva um programa para aprovar o empréstimo bancário para a compra de uma casa. O programa vai perguntar o valor da casa, o salário do comprador e em quantos anos ele vai pagar.\n",
    "\n",
    "Calcule o valor da prestação mensal, sabendo que ela não pode exceder 30% do salário ou então o emprestimo será negado."
   ]
  },
  {
   "cell_type": "code",
   "execution_count": 2,
   "metadata": {},
   "outputs": [
    {
     "ename": "ValueError",
     "evalue": "could not convert string to float: ''",
     "output_type": "error",
     "traceback": [
      "\u001b[1;31m---------------------------------------------------------------------------\u001b[0m",
      "\u001b[1;31mValueError\u001b[0m                                Traceback (most recent call last)",
      "Cell \u001b[1;32mIn[2], line 2\u001b[0m\n\u001b[0;32m      1\u001b[0m \u001b[38;5;66;03m# RESOLUCAO RONAN\u001b[39;00m\n\u001b[1;32m----> 2\u001b[0m valorCasa \u001b[38;5;241m=\u001b[39m \u001b[38;5;28;43mfloat\u001b[39;49m\u001b[43m(\u001b[49m\u001b[38;5;28;43minput\u001b[39;49m\u001b[43m(\u001b[49m\u001b[38;5;124;43m'\u001b[39;49m\u001b[38;5;124;43mQual é o valor do imóvel desejado?: R$\u001b[39;49m\u001b[38;5;124;43m'\u001b[39;49m\u001b[43m)\u001b[49m\u001b[43m)\u001b[49m\n\u001b[0;32m      3\u001b[0m salarioComprador \u001b[38;5;241m=\u001b[39m \u001b[38;5;28mfloat\u001b[39m(\u001b[38;5;28minput\u001b[39m(\u001b[38;5;124m'\u001b[39m\u001b[38;5;124mInforme seu salário: R$\u001b[39m\u001b[38;5;124m'\u001b[39m))\n\u001b[0;32m      4\u001b[0m qtdAnosFinancia \u001b[38;5;241m=\u001b[39m \u001b[38;5;28mint\u001b[39m(\u001b[38;5;28minput\u001b[39m(\u001b[38;5;124m'\u001b[39m\u001b[38;5;124mEm quanos anos será financiada a casa?: \u001b[39m\u001b[38;5;124m'\u001b[39m))\n",
      "\u001b[1;31mValueError\u001b[0m: could not convert string to float: ''"
     ]
    }
   ],
   "source": [
    "# RESOLUCAO RONAN\n",
    "valorCasa = float(input('Qual é o valor do imóvel desejado?: R$'))\n",
    "salarioComprador = float(input('Informe seu salário: R$'))\n",
    "qtdAnosFinancia = int(input('Em quanos anos será financiada a casa?: '))\n",
    "parcelaMensal = valorCasa / (qtdAnosFinancia*12)\n",
    "\n",
    "print('Entendido! Então, o imovel de R${:.2f} será financiando em {} ano(s).'.format(valorCasa, qtdAnosFinancia))\n",
    "\n",
    "if parcelaMensal <= salarioComprador * 0.30:\n",
    "    print('Financiamento contratado com sucesso! Imóvel financiado com parcelas mensais de R${:.2f} em {} anos.'.format(parcelaMensal, qtdAnosFinancia))\n",
    "else:\n",
    "    print('Financiamento reprovado. Parcela mensal superior ao limite de crédito.')"
   ]
  },
  {
   "cell_type": "code",
   "execution_count": null,
   "metadata": {},
   "outputs": [
    {
     "name": "stdout",
     "output_type": "stream",
     "text": [
      "Para pagar uma casa de R$200000.00 em 5 anos a prestação será de R$3333.33\n",
      "Empréstimo pode ser CONCEDIDO\n"
     ]
    }
   ],
   "source": [
    "# RESOLUÇÃO GUANABARA\n",
    "casa = float(input('Valor da casa: R$'))\n",
    "salario = float(input('Salário do comprador: R$'))\n",
    "anos = int(input('Quantos anos de financiamento? '))\n",
    "prestacao = casa / (anos * 12)\n",
    "minimo = salario * 30 / 100\n",
    "print('Para pagar uma casa de R${:.2f} em {} anos'.format(casa, anos), end='')\n",
    "print(' a prestação será de R${:.2f}'.format(prestacao))\n",
    "\n",
    "# print('COMPARANDO tem que pagar {} e o mínimo é de {}'.format(prestacao, minimo)) isso é para apenas verificação interna\n",
    "\n",
    "if prestacao <= minimo:\n",
    "    print('Empréstimo pode ser CONCEDIDO')\n",
    "else:\n",
    "    print('Empréstimo negado.')\n"
   ]
  },
  {
   "cell_type": "markdown",
   "metadata": {},
   "source": [
    ">NOTAS RESOLUÇÃO GUANABARA\n",
    "\n",
    ">- Utilizado `end=''` no fim do `print` para o `print` da linha seguinte seja printado após o primeiro print, formando, no console, uma frase unida.\n",
    ">- O resultado da resolução do Guanabara foi similar a nossa, maior diferença é que não validamos no IF ao invés de atribuir em uma variável."
   ]
  },
  {
   "cell_type": "markdown",
   "metadata": {},
   "source": [
    "#### Desafio 37\n",
    "\n",
    "Escreva um programa que leia um número inteiro qualquer e peça para o usuário escolher qual será a base de conversão:\n",
    "\n",
    "- 1 para binário\n",
    "- 2 para octal\n",
    "- 3 para hexadecimal"
   ]
  },
  {
   "cell_type": "code",
   "execution_count": null,
   "metadata": {},
   "outputs": [
    {
     "name": "stdout",
     "output_type": "stream",
     "text": [
      "A conversão do inteiro 150 em binário é: 10010110\n"
     ]
    }
   ],
   "source": [
    "#RESOLUÇÃO RONAN\n",
    "num = int(input('Insira um número inteiro: '))\n",
    "\n",
    "escolha = int(input(\"\"\"MENU DE CONVERSÃO\n",
    "Insira o número correspondente aos itens abaixo para convertê-lo à base desejada:\n",
    "1 - Binário;\n",
    "2 - Octal;\n",
    "3 - Hexadecimal.\"\"\"))\n",
    "\n",
    "if escolha == 1:\n",
    "    # Binario. \n",
    "    print('A conversão do inteiro {} em binário é: {}'.format(num, bin(num)[2:]))\n",
    "elif escolha == 2:\n",
    "    # Octal\n",
    "    print('A conversão do inteiro {} em octal é: {}'.format(num, oct(num)[2:]))\n",
    "elif escolha == 3:\n",
    "    # Hexadecimal\n",
    "    print('A conversão do inteiro {} em hexadecimal é: {}'.format(num, hex(num)[2:]))\n",
    "else:\n",
    "    # Nenum indice selecionado\n",
    "    print('Insira um número correspondente ao menu.')\n"
   ]
  },
  {
   "cell_type": "markdown",
   "metadata": {},
   "source": [
    ">*Utilizamos apenas as ferramentas apresentadas. Pode-se, futuramente, usar 'while' para prosseguir o sistema apenas se o valor inserido corresponde ao desejado. Algo como while escolha > 0 and escolha < 4.*\n",
    "\n",
    ">*Não consegui fazer o calculo na unha, pois, para realiza-lo, eu usaria estrutura de repetição para dividir repetidas vezes e retornar o mesmo número definindo uma flag para encerramento do loop. Fazer na unha, no método que imaginei (num / base + pega valores de resto e quociente => num / base + pega valores de resto e quociente  => num / base + pega valores de resto e quociente  e segue) não seria possivel, pois eventualmente a divisão quebraria já que não sabemos a extensão de cada número inserido pelo usuário.*\n",
    "\n",
    ">*Note no format o [2:0], isso é para mostrar da 3º casa do número convertido para frente. Fizemos isso pois o python, nas duas primeiras casas, indica qual é a base do número. Para binário, por exemplo, retorna 0b_NUMERO-CONVERTIDO_; octal é 0o_NUMERO-CONVERTIDO_; hexadeciaml é 0h_NUMERO-CONVERTIDO_*"
   ]
  },
  {
   "cell_type": "code",
   "execution_count": null,
   "metadata": {},
   "outputs": [],
   "source": [
    "#RESOLUÇÃO GUANABARA\n",
    "num = int(input('Digite um número inteiro: '))\n",
    "print('''Escolha uma das bases para conversão:\n",
    "[ 1 ] converter para BINÁRIO\n",
    "[ 2 ] converter para OCTAL\n",
    "[ 3 ] converter para HEXADECIMAL''')\n",
    "opcao = int(input('Sua opção: '))\n",
    "if opcao == 1:\n",
    "    print('{} convertido para BINÁRIO é igual a {}'.format(num, bin(num)[2:]))\n",
    "elif opcao == 2:\n",
    "    print('{} convertido para OCTaL é igual a {}'.format(num, oct(num)[2:]))\n",
    "elif opcao == 3:\n",
    "    print('{} convertido para HEXADECIAML é igual a {}'.format(num, hex(num)[2:]))\n",
    "else:\n",
    "    print('Opção inválida. Tente novamente.')\n"
   ]
  },
  {
   "cell_type": "markdown",
   "metadata": {},
   "source": [
    ">NOTAS RESOLUÇÃO GUANABARA\n",
    "\n",
    ">- A resolução do Guanabara está BEM PRÓXIMA da nossa resolução. Maior diferença é que ao invés de 3 \" para fazer o print, foi usado 3 '"
   ]
  },
  {
   "cell_type": "markdown",
   "metadata": {},
   "source": [
    "#### Desafio 38\n",
    "\n",
    "Escreva um programa que leia dois números inteiros e compare-os, mostrando na tela uma mensagem:\n",
    "\n",
    "- O primeiro valor é maior\n",
    "- O segundo valor é maior\n",
    "- Não existe valor maios, os dois são iguais"
   ]
  },
  {
   "cell_type": "code",
   "execution_count": null,
   "metadata": {},
   "outputs": [
    {
     "name": "stdout",
     "output_type": "stream",
     "text": [
      "Você inseriu o primeiro número 10\n",
      "Você inseriu o segundo número 20\n",
      "O segundo numero é maior que o primeiro numero.\n"
     ]
    }
   ],
   "source": [
    "#RESOLUÇÃO RONAN\n",
    "num1 = int(input('Insira o primeiro numero inteiro: '))\n",
    "print('Você inseriu o primeiro número {}'.format(num1))\n",
    "num2 = int(input('Insira o segundo numero inteiro: '))\n",
    "print('Você inseriu o segundo número {}'.format(num2))\n",
    "\n",
    "# Estrutura aninhada\n",
    "if num1 > num2:\n",
    "    print('O primeiro numero inserido é maior que o segundo numero')\n",
    "elif num1 < num2:\n",
    "    print('O segundo numero é maior que o primeiro numero.')\n",
    "elif num1 == num2:\n",
    "    print('Não existe valor maior, ambos os números são iguais.')\n",
    "else:\n",
    "    print('Valor não compreendido, por gentileza, insira 2 valores inteiros para comparação.')\n"
   ]
  },
  {
   "cell_type": "code",
   "execution_count": null,
   "metadata": {},
   "outputs": [],
   "source": [
    "#RESOLUÇÃO GUANABARA\n",
    "n1 = int(input('Primeiro número: '))\n",
    "n2 = int(input('Segundo número: '))\n",
    "if n1 > n2:\n",
    "    print('O PRIMEIRO valor é maior')\n",
    "elif n2 > n1:\n",
    "    print('O SEGUNDO valor é maior')\n",
    "elif n1 == n2:\n",
    "    print('Os dois valores são IGUAIS')\n"
   ]
  },
  {
   "cell_type": "markdown",
   "metadata": {},
   "source": [
    ">NOTAS RESOLUÇÃO GUANABARA\n",
    "\n",
    ">- Demostrando que a ultima informação poderia ser com `elif n1 == n2:`, mas, pode-se simplificar apenas com `else:`, pois, não se espera mais valor inserido, apenas as 3 opções. Eu optei por manter o `elif n1 == n2:` para usar como `else` qualquer valor inserido de forma inexperada, não aceitando-o.\n",
    ">- Guanabara salientou a importância de deixar uma linha vazia identada totalmente para esquerda para indicar o encerramento do projeto."
   ]
  },
  {
   "cell_type": "markdown",
   "metadata": {},
   "source": [
    "#### Desafio 39\n",
    "\n",
    "Faça um programa que leia o ano de nascimento de um jovem e informe, de acordo com sua idade:\n",
    "\n",
    "- Se ele ainda vai se alistar ao serviço militar;\n",
    "- Se é a hora de se alistar;\n",
    "- Se já passou do tempo do alistamento;\n",
    "\n",
    "Seu programa também deverá mostrar o tempo que falta ou que passou do prazo.\n",
    "\n",
    "> Usar o horário de sistema"
   ]
  },
  {
   "cell_type": "code",
   "execution_count": null,
   "metadata": {},
   "outputs": [
    {
     "name": "stdout",
     "output_type": "stream",
     "text": [
      "Valor inserido de nascimento: 2010!\n",
      "\n",
      "Este ano, você completará 14 anos!\n",
      "Ainda não é hora para se alistar! Faltam 4 anos!\n"
     ]
    }
   ],
   "source": [
    "#RESOLUÇÃO RONAN\n",
    "from datetime import date\n",
    "\n",
    "nasc = int(input('Olá jovem! Qual é o ano do seu nascimento?: '))\n",
    "print('Valor inserido de nascimento: {}!\\n'.format(nasc))\n",
    "idadeAno = date.today().year - nasc\n",
    "\n",
    "print('Este ano, você completará {} anos!'.format(idadeAno))\n",
    "\n",
    "if idadeAno < 18:\n",
    "    print('Ainda não é hora para se alistar! Faltam {} anos!'.format(18 - idadeAno))\n",
    "elif idadeAno == 18:\n",
    "    print('Se lascou! Vai ter que se alistar esse ano ou vai rolar excesso de contigente')\n",
    "elif idadeAno > 18:\n",
    "    print('Se você ainda não se alistou, você pode ter se ferrado, pois passaram {} anos para o seu alistamento. Vê isso aí irmão.'.format(idadeAno - 18))\n",
    "else:\n",
    "    print('Algo de uerrado, insira valor correto ou contate o desenvolvedor.')\n"
   ]
  },
  {
   "cell_type": "code",
   "execution_count": null,
   "metadata": {},
   "outputs": [],
   "source": [
    "#RESOLUÇÃO GUANABARA\n",
    "from datetime import date\n",
    "atual = date.today().year\n",
    "nasc = int(input('Ano de nascimento: '))\n",
    "idade = atual - nasc\n",
    "print('Quem nasceu em {} tem {} anos em {}.'.format(nasc, idade, atual))\n",
    "if idade == 18:\n",
    "    print('Você tem que se alistar IMEDIATAMENTE!')\n",
    "elif idade < 18:\n",
    "    saldo = 18 - idade\n",
    "    print('Ainda faltam {} anos para o alistamento.')\n",
    "    ano = atual + saldo\n",
    "    print('Seu alistamento será em {}.'.format(ano))\n",
    "elif idade > 18:\n",
    "    saldo = idade - 18\n",
    "    print('Você ainda deveria ter se alistado há {} anos.')\n",
    "    ano = atual - saldo\n",
    "    print('Seu alistamento foi em {}.'.format(ano))\n"
   ]
  },
  {
   "cell_type": "markdown",
   "metadata": {},
   "source": [
    ">NOTAS RESOLUÇÃO GUANABARA\n",
    "\n",
    ">- Guanabara optou por não deixar a ultima opção com `else:` para deixar o código mais semantico, mas, poderia ter feito com `else:` também. Eu preferi utilizar o `else:` para tratar qualqeur opção que fuja do esperado.\n",
    ">- Resolução similar, diferença que a validação fiz no format e o Guanabara fez com variável.\n",
    ">- Guanabara acrescentou uma nova funcionalidade: Uma validação que retorna quando deveria ter sido ou quando será o ano de alistamento do usuário. Para isso, soma ou subtrai o ano atual pelo saldo de anos até o alistamento."
   ]
  },
  {
   "cell_type": "markdown",
   "metadata": {},
   "source": [
    "#### Desafio 40\n",
    "\n",
    "Crie um programa que leia duas notas de um aluno e calcule sua média, mostrando uma mensagem no final, de acordo com a média atingida:\n",
    "\n",
    "- Média abaixo de 5.0: REPROVADO;\n",
    "- Média entre 5.0 e 6.9: RECUPERAÇÃO;\n",
    "- Média 7.0 ou superior: APROVADO."
   ]
  },
  {
   "cell_type": "code",
   "execution_count": null,
   "metadata": {},
   "outputs": [
    {
     "name": "stdout",
     "output_type": "stream",
     "text": [
      "Primeira nota inserida: 11.00\n",
      "Segunda nota inserida: 10.00\n",
      "Valor invalido inserido: Valor acima de 10 ou valor negativo.\n"
     ]
    }
   ],
   "source": [
    "#RESOLUÇÃO RONAN\n",
    "n1 = float(input('Insira a primeira nota: '))\n",
    "print('Primeira nota inserida: {:.2f}'.format(n1))\n",
    "n2 = float(input('Insira a segunda nota: '))\n",
    "print('Segunda nota inserida: {:.2f}'.format(n2))\n",
    "media = (n1 + n2)/2\n",
    "\n",
    "# Condicao se notas entre 0 a 10\n",
    "if n1 >= 0 and n1 <= 10 and n2 >= 0 and n2 <= 10:\n",
    "    # Bloco valida média retorna aprovacao\n",
    "    if media < 5:\n",
    "        print('Caro aluno(a), sua média é {:.2f} e você foi REPROVADO. A nota de média minima para aprovação é 7 e de recuperação é 5. Não desista, estude mais, você consegue!'.format(media))\n",
    "    elif media < 7:\n",
    "        print('Caro aluno(a), sua média é {:.2f} e você está de RECUPERAÇÃO! A nota de média minima para aprovação é 7. Falta pouco, estude bastante para a próxima avaliação!'.format(media))\n",
    "    elif media <= 9:\n",
    "        print('Caro aluno(a), sua média é {:.2f} e você foi APROVADO(A)!'.format(media))\n",
    "    elif media <= 10:\n",
    "        print('PARABÉNS Aluno(a), sua média é {:.2f} e você foi APROVADO(A) com uma ÓTIMA nota!'.format(media))\n",
    "else:\n",
    "    print('Valor invalido inserido: Valor acima de 10 ou valor negativo.')\n"
   ]
  },
  {
   "cell_type": "markdown",
   "metadata": {},
   "source": [
    ">*NOTAS DO PROJETO*\n",
    "\n",
    ">*VALIDAÇÃO DOS VALORES INSERIDOS*\n",
    ">- *Deve haver uma forma mais clara de delimitar o range de um valor, como 'inserir um numero de x a y'. Creio que o parametro range faria isso, mas, resolvemos da forma mais braçal como exemplo de resolução.*\n",
    ">- *Uma forma de melhorar o projeto é a validação logo quando o numero for inserido, retornando se foi inserido com sucesso ou não logo em seu input, perguntando continuamente ao usuário um valor valido através de loop ou do/while antes de passar pra proxima etapa (tipo, validar o n1 para em seguida seguir para n2). Feito dessa forma para agilidade e para utilizar as ferramentas até o momento apresentadas.*"
   ]
  },
  {
   "cell_type": "code",
   "execution_count": null,
   "metadata": {},
   "outputs": [],
   "source": [
    "#RESOLUÇÂO GUANABARA\n",
    "nota1 = float(input('Primeira nota: '))\n",
    "nota2 = float(input('Segunda nota: '))\n",
    "media = (nota1 + nota2) / 2\n",
    "print('Tirando {:.1f} e {:.1f}, a média do aluno é {:.1f}'.format(nota1, nota2, media))\n",
    "if 7 > media >= 5: # outra forma de escrever \"media >= 5 and media < 7\"\n",
    "    print('O aluno está em RECUPERAÇÃO!')\n",
    "elif media < 5:\n",
    "    print('O aluno está REPROVADO.')\n",
    "elif media >= 7:\n",
    "    print('O aluno está APROVADO.')\n"
   ]
  },
  {
   "cell_type": "markdown",
   "metadata": {},
   "source": [
    ">NOTAS RESOLUÇÃO GUANABARA\n",
    "\n",
    ">- Guanabara demonstrou a forma tradicional de fazer um range na programação, com operador lógico `media >= 5 and media < 7:`, e demonstrou que o python também aceita a forma similar ao da matematica `7 > media >= 5:`\n",
    ">- Fizemos bem diferente, mas com mesmo resultado. Não precisamos de operador lógico ali pois utilizamos a forma sequêncial do elif para fazer as operações."
   ]
  },
  {
   "cell_type": "markdown",
   "metadata": {},
   "source": [
    "#### Desafio 41\n",
    "\n",
    "A confederação Nacional de Natação precisa de um programa que leia o ano de nascimento de um atleta e mostre sua categoria, de acordo a idade:\n",
    "\n",
    "- Até 9 anos: MIRIM;\n",
    "- Até 14 anos: INFANTIL;\n",
    "- Até 19 anos: JUNIOR;\n",
    "- Até 20 anos: Sênior;\n",
    "- Acima: MASTER."
   ]
  },
  {
   "cell_type": "code",
   "execution_count": null,
   "metadata": {},
   "outputs": [
    {
     "name": "stdout",
     "output_type": "stream",
     "text": [
      "O valor inserido foi 21 anos!\n",
      "O atleta tem 21 anos e foi incluido na categoria MASTER!\n"
     ]
    }
   ],
   "source": [
    "#RESOLUÇÃO RONAN\n",
    "anoNasc = int(input('Qual é a idade do atleta?: '))\n",
    "print('O valor inserido foi {} anos!'.format(anoNasc))\n",
    "\n",
    "if anoNasc <= 9:\n",
    "    print('O atleta tem {} anos e foi incluido na categoria MIRIM!'.format(anoNasc))\n",
    "elif anoNasc <= 14:\n",
    "    print('O atleta tem {} anos e foi incluido na categoria INFANTIL!'.format(anoNasc))\n",
    "elif anoNasc <= 19:\n",
    "    print('O atleta tem {} anos e foi incluido na categoria JUNIOR!'.format(anoNasc))\n",
    "elif anoNasc <= 20:\n",
    "    print('O atleta tem {} anos e foi inlcuido na categoria SENIOR!'.format(anoNasc))\n",
    "elif anoNasc > 20:\n",
    "    print('O atleta tem {} anos e foi incluido na categoria MASTER!'.format(anoNasc))\n",
    "else:\n",
    "    print('Insira um valor valido.')"
   ]
  },
  {
   "cell_type": "markdown",
   "metadata": {},
   "source": [
    ">CORREÇÕES\n",
    "\n",
    ">- Erramos no inicio, deveriamos validar a data de nascimento ao invés de pedir a idade ao usuário, conforme solicitado no ennunciado."
   ]
  },
  {
   "cell_type": "code",
   "execution_count": null,
   "metadata": {},
   "outputs": [],
   "source": [
    "#RESOLUÇÃO GUANABARA\n",
    "from datetime import date\n",
    "atual = date.today().year\n",
    "nascimento = int(input('Ano de Nascimento: '))\n",
    "idade = atual - nascimento\n",
    "print('O atleta tem {} anos.'.format(idade))\n",
    "if idade <= 9:\n",
    "   print('Classificação: MIRIM')\n",
    "elif idade <= 14:\n",
    "   print('Classificação: INFANTIL')\n",
    "elif idade <= 19:\n",
    "    print('Classificação: JUNIOR')\n",
    "elif idade <= 25:\n",
    "   print('Classificação: SÊRNIOR')\n",
    "else:\n",
    "   print('Classificação: MASTER')\n"
   ]
  },
  {
   "cell_type": "markdown",
   "metadata": {},
   "source": [
    ">NOTAS RESOLUÇÃO GUANABARA\n",
    "\n",
    ">- Em `idade > 9 and idade <= 14`, o `idade > 9 and ` é desnecessário pois o código já valida a primeira condição primeiro, que no caso é se `idade <= 9:` e ele só segue se a idade não for <= 9, então, pode-se tirar o trecho redundante e no decorrer da estrutura a lógica se repete."
   ]
  },
  {
   "cell_type": "markdown",
   "metadata": {},
   "source": [
    "#### Desafio 42\n",
    "\n",
    "Reforça o desafio 35 dos triângulos, acrescentando o recurso de mostrar que tipo de triângulo será formado:\n",
    "\n",
    "- Equilátero: Todos os lados iguais;\n",
    "- Isósceles: dois lados iguais;\n",
    "- Escaleno: todos os lados diferentes."
   ]
  },
  {
   "cell_type": "code",
   "execution_count": null,
   "metadata": {},
   "outputs": [
    {
     "name": "stdout",
     "output_type": "stream",
     "text": [
      "-=-=-=-=-=-=-=-=-=-=-=-=-=-=-=-=-=-=-=-=\n",
      "Analisador de Triângulos\n",
      "-=-=-=-=-=-=-=-=-=-=-=-=-=-=-=-=-=-=-=-=\n",
      "Verificando se o conjunto de segmentos pode ou não formar um triangulo...\n",
      "Pronto! Agora, verificando o tipo do triangulo...\n",
      "SIM! Com os comprimentos de reta 1.50, 1.70 e 2.00 pode-se formar um triângulo e o tipo deste triangulo é um escaleno!\n"
     ]
    }
   ],
   "source": [
    "#RESOLUÇÃO RONAN\n",
    "from time import sleep\n",
    "\n",
    "print('-=' * 20)\n",
    "print('Analisador de Triângulos')\n",
    "print('-=' * 20)\n",
    "a = float(input('Informe um comprimento de reta: '))\n",
    "b = float(input('Informe outro comprimento de reta: '))\n",
    "c = float(input('Informer mais um comprimento de reta: '))\n",
    "\n",
    "print('Verificando se o conjunto de segmentos pode ou não formar um triangulo...')\n",
    "sleep(3)\n",
    "\n",
    "if a + b > c and a + c > b and b + c > a:\n",
    "    print('Pronto! Agora, verificando o tipo do triangulo...')\n",
    "    sleep(3)\n",
    "\n",
    "    #Bloco valida tipo triangulo\n",
    "    if a == b and b == c:\n",
    "        tipoTriang = 'equilátero'\n",
    "    elif a == b or a == c or b == c:\n",
    "        tipoTriang = 'isósceles'\n",
    "    elif a != b and a != c and b != c:\n",
    "        tipoTriang = 'escaleno'\n",
    "    #Fim bloco\n",
    "        \n",
    "    print('SIM! Com os comprimentos de reta {:.2f}, {:.2f} e {:.2f} pode-se formar um triângulo e o tipo deste triangulo é um {}!'.format(a, b, c, tipoTriang))\n",
    "else:\n",
    "    print('NÃO! Com os comprimento de reta {:.2f}, {:.2f} e {:.2f} não se pode formar um triângulo!'.format(a, b, c))"
   ]
  },
  {
   "cell_type": "markdown",
   "metadata": {},
   "source": [
    ">*NOTAS DO PROJETO*\n",
    "\n",
    ">*POSICIONAMENTO DO BLOCO TIPO TRIANGULO*\n",
    ">- *Colocamos o bloco para validação do tipo do triangulo dentro da condição verdadeira para formação de um triangulo, pois, retoranr o tipo do triangulo fora da estrutura verdadeira da formação de um triangulo cria um resultado dúbio, já que não há porque calcular o tipo de um triangulo que não pode ser formado*\n",
    ">- *Além disso, posicionamos o retorno da validação dos seguimentos de reta do projeto anterior após a validação do bloco tipo-traingulo, pois, assim não precisamos ficar usando muitos prints. Conseguimos aproveitar o mesmo print para retornar a variável que foi atribuida seguindo a estrutura condicional aninhada.*\n",
    "\n",
    ">*LÓGICA DO BLOCO TIPO TRIANGULO*\n",
    ">- *Utilizamos um if, ao invés de um elif, pois queremos iniciar uma nova estrutura condicional quando verdadeira a estrutura a qual ela encontra-se posicionada. Caso usassemos o elif, iniciariamos no valor falso.*\n",
    ">- *Após o if, inicia-se a estrutura aninhada. Utilizamos o primeiro valor somente com duas validações pois, para ver se todas os segmentos são iguais, basta ver se o a é igual a b e se o b é igual a c, logo c é igual a a.*\n",
    ">- *Em seguida, com o elif, conseguimos garantir que o resultado 'isósceles' não seja chamado quando todos os lados forem iguais, pois, se todos forem iguais, a principio, retornará a validação anterior. Com isso, conseguimos utilizar o or ao invés do xor, pois, sabemos que mesmo se todos os valores forem Verdadeiros, se essa condição for atingida, o que será retornado é 'equilátero'. Agora, se algum dos lados for diferente, segue o caminho da primeira validação falsa e será verificada a segunda e terceira validação.*\n",
    ">- *Evitamos usar o else e usamos o elif na ultima validação por questão semantica e para evitar que retorne 'escaleno' em qualquer valor inserido que não atenda as outras duas condições. Mais para explicitar o requisito.*"
   ]
  },
  {
   "cell_type": "code",
   "execution_count": null,
   "metadata": {},
   "outputs": [],
   "source": [
    "#RESOLUÇÃO GUANABARA\n",
    "\n",
    "r1 = float(input('Primeiro segmento: '))\n",
    "r2 = float(input('Segundo segmento: '))\n",
    "r3 = float(input('Terceiro segmento: '))\n",
    "if r1 < r2 + r3 and r2 < r1 + r3 and r3 < r1 + r2:\n",
    "    print('Os segmentos acima PODEM FORMAR um triângulo!', end='')\n",
    "    if r1 == r2 == r3: # Forma que o PYTHON aceita de escrever a seguinte sintaxe: if r1 == r2 and r2 == r3:. PYTHON aceita as duas formas.\n",
    "        print('EQUILATERO!')\n",
    "    elif r1 != r2 != r3 != r1:\n",
    "        print('ECALENO!')\n",
    "    else:\n",
    "        print('ISÓSCELES!')\n",
    "else:\n",
    "    print('Os segmentos acima NÃO PODEM FORMAR triângulo')\n",
    "    "
   ]
  },
  {
   "cell_type": "markdown",
   "metadata": {},
   "source": [
    ">NOTAS RESOLUÇÃO GUANABARA\n",
    "\n",
    ">- Forma alternativa, em python, de escrever `r1 == r2 and r2 == r3` é `r1 == r2 == r3`\n",
    ">- Guanabara diz: Nunca faça a resolução tudo de uma vez, ideal resolver e testar pedaço a pedaço.\n",
    ">- `end=''` no final do print nos diz para ter nada no final do format, resultado em o não pular de linha e inciar o print seguinte imediatamente ao lado deste print.\n",
    ">- Nas validações do tipo de trinagulo poderiamos usar apenas `if`, mas, sinto que o `elif` tráz uma certa segurança e, possibilita no final utilizar o `else` no isósceles sem validá-lo, pois, só temos 3 opções mesmo.\n",
    "\n",
    ">- Nossa resolução está levemente diferente, mas creio que está correto. Foi quase inteiro igual."
   ]
  },
  {
   "cell_type": "markdown",
   "metadata": {},
   "source": [
    "#### Desafio 43\n",
    "\n",
    "Desenvolva uma lógica que leia o peso e a altura de uma pessoa, calcule seu IMC e mostre seu status, de acordo com a tabela abaixo:\n",
    "\n",
    "- Abaixo de 18.5: Abaixo do peso;\n",
    "- Entre 18.5 e 25: Peso ideal;\n",
    "- 25 até 30: Sobrepeso;\n",
    "- 30 até 40: Obesidade;\n",
    "- Acima de 40: Obesidade mórbida."
   ]
  },
  {
   "cell_type": "code",
   "execution_count": 4,
   "metadata": {},
   "outputs": [
    {
     "name": "stdout",
     "output_type": "stream",
     "text": [
      "Você inseriu o valor 80.0kg\n",
      "Você inseriu o valor de {:.2f} metros.\n",
      "Seu IMC é 27.68! Você está em sobrepeso! Seu peso ideal é entre 53.46 a 72.25kg. É necessário reduzir entre 7.75 a 26.54kg.\n"
     ]
    }
   ],
   "source": [
    "#RESOLUÇÃO RONAN\n",
    "#IMC = peso / altura²\n",
    "peso = float(input('Insira o peso em kg: '))\n",
    "print('Você inseriu o valor {}kg'.format(peso))\n",
    "altura = float(input('Insira a altura em metros: '))\n",
    "print('Você inseriu o valor de {:.2f} metros.')\n",
    "imc = peso / altura**2\n",
    "pesoMinIdeal = (altura**2) * 18.5\n",
    "pesoMaxIdeal = (altura**2) * 25\n",
    "\n",
    "if imc < 18.5:\n",
    "    print('Seu IMC é {:.2f}! Você está abaixo do peso! Seu peso ideal é entre {:.2f} a {:.2f}kg. É necessário aumentar entre {:.2f} a {:.2f}kg.'.format(imc, pesoMinIdeal, pesoMaxIdeal, peso - pesoMaxIdeal, peso - pesoMinIdeal))\n",
    "elif imc >= 18.5 and imc < 25:\n",
    "    print('Seu IMC é {:.2f}! Você está no peso ideal!'.format(imc))\n",
    "elif imc >= 25 and imc < 30:\n",
    "    print('Seu IMC é {:.2f}! Você está em sobrepeso! Seu peso ideal é entre {:.2f} a {:.2f}kg. É necessário reduzir entre {:.2f} a {:.2f}kg.'.format(imc, pesoMinIdeal, pesoMaxIdeal, peso - pesoMaxIdeal, peso - pesoMinIdeal))\n",
    "elif imc >= 30 and imc < 40:\n",
    "    print('Seu IMC é {:.2f}! Você está em obesidade! Seu peso ideal é entre {:.2f} a {:.2f}kg. É necessário reduzir entre {:.2f} a {:.2f}kg.'.format(imc, pesoMinIdeal, pesoMaxIdeal, peso - pesoMaxIdeal, peso - pesoMinIdeal))\n",
    "elif imc > 40:\n",
    "    print('Seu IMC é {:.2f}! Você está em obesidade mórbida! Seu peso ideal é entre {:.2f} a {:.2f}kg. É necessário reduzir entre {:.2f} a {:.2f}kg.'.format(imc, pesoMinIdeal, pesoMaxIdeal, peso - pesoMaxIdeal, peso - pesoMinIdeal))"
   ]
  },
  {
   "cell_type": "code",
   "execution_count": 5,
   "metadata": {},
   "outputs": [
    {
     "name": "stdout",
     "output_type": "stream",
     "text": [
      "O IMC dessa pessoa é de 27.68166089965398\n"
     ]
    }
   ],
   "source": [
    "#RESOLUÇÃO GUANABARA\n",
    "\n",
    "peso = float(input('Qual é seu peso? (Kg) '))\n",
    "altura = float(input('Qual é sua altura? (m) '))\n",
    "imc = peso / (altura ** 2)\n",
    "print('O IMC dessa pessoa é de {:.1f}'.format(imc))\n",
    "\n",
    "if imc < 18.5:\n",
    "    print('Você está ABAIXO DO PESO normal')\n",
    "elif 18.5 <= imc < 25:\n",
    "    print('PARABENS! Você está na faixa de PESO NORMAL.')\n",
    "elif 25 <= imc < 30:\n",
    "    print('Você está em SOBREPESO')\n",
    "elif 30 <= imc < 40:\n",
    "    print('Você está em OBESIDADE!')\n",
    "elif imc >= 40:\n",
    "    print('Você está em OBESIDADE MORBIDA, cuidado!')"
   ]
  },
  {
   "cell_type": "markdown",
   "metadata": {},
   "source": [
    ">NOTAS RESOLUÇÃO GUANABARA\n",
    "\n",
    ">- Alternativa de representação:\n",
    ">   - `imc >= 18.5 and imc < 25` pode ser representado por `18.5 <= imc < 25`.\n",
    ">   - Maior diferença é a forma alternativa de validação e que no nosso trouxemos mais informações (como a diferença de peso para entrar no peso ideal.)"
   ]
  },
  {
   "cell_type": "markdown",
   "metadata": {},
   "source": [
    "#### Desafio 44\n",
    "\n",
    "Elabore um programa que calcule o valor a ser pago por um produto, considerando o seu preço normal e condição de pagamento:\n",
    "\n",
    "- À vista dinheiro/cheque: 10% de desconto\n",
    "- À vista no cartão: 5% de desconto;\n",
    "- Em até 2x no cartão: preço normal;\n",
    "- 3x ou mais no cartão: 20% de juros."
   ]
  },
  {
   "cell_type": "code",
   "execution_count": 27,
   "metadata": {},
   "outputs": [
    {
     "name": "stdout",
     "output_type": "stream",
     "text": [
      "-=-=-=-=-=-=-=-=-=-=-=-=-=-=-=-=-=-=-=-=\n",
      "METODO DE PAGAMENTO\n",
      "-=-=-=-=-=-=-=-=-=-=-=-=-=-=-=-=-=-=-=-=\n",
      "O valor do produto inserido foi R$1000.00, através do método de pagamento de Á vista dinheiro/cheque, com desconto de R$100.00, resultando no valor final do produto de R$900.00\n"
     ]
    }
   ],
   "source": [
    "#RESOLUÇÃO RONAN\n",
    "valorProd = float(input('Insira o valor do produto: R$'))\n",
    "print('-=' * 20)\n",
    "print('METODO DE PAGAMENTO')\n",
    "metodoPag = int(input(\"\"\"1 - Á vista dinheiro/cheque\n",
    "2 - Á vista no cartão\n",
    "3 - Em até 2x no cartão\n",
    "4 - 3x ou mais no cartão\n",
    "\n",
    "Informe o método de pagamento digitando um dos números do menu: \"\"\"))\n",
    "print('-=' * 20)\n",
    "\n",
    "if metodoPag == 1:\n",
    "    metodoResult = 'Á vista dinheiro/cheque'\n",
    "    condicao = 'desconto'\n",
    "    operacao = valorProd * (10 / 100)\n",
    "    valorFinal = valorProd - operacao\n",
    "elif metodoPag == 2:\n",
    "    metodoResult = 'Á vista no cartão'\n",
    "    condicao = 'desconto'\n",
    "    operacao = valorProd * (5 / 100)\n",
    "    valorFinal = valorProd - operacao\n",
    "elif metodoPag == 3:\n",
    "    metodoResult = 'Em até 2x no cartão'\n",
    "    condicao = 'desconto'\n",
    "    operacao = 0\n",
    "    valorFinal = valorProd - operacao\n",
    "elif metodoPag == 4:\n",
    "    metodoResult = '3x ou mais no cartão'\n",
    "    condicao = 'juros'\n",
    "    operacao = valorProd * (20 / 100)\n",
    "    valorFinal = valorProd + operacao\n",
    "\n",
    "print('O valor do produto inserido foi R${valor:.2f}, através do método de pagamento de {metodo}, com {condicao} de R${valorOperacao:.2f}, resultando no valor final do produto de R${valorFinal:.2f}'.format(\n",
    "    valor = valorProd,\n",
    "    metodo = metodoResult,\n",
    "    condicao = condicao,\n",
    "    valorOperacao = operacao,\n",
    "    valorFinal = valorFinal))"
   ]
  },
  {
   "cell_type": "markdown",
   "metadata": {},
   "source": [
    ">*NOTAS DO PROJETO*\n",
    "\n",
    ">*Sinto que o código ficou extenso mas fiz dessa forma pra retornar tudo em um único output (print). Algo me diz que dessa maneira a manuteção fica mais facil e direcionada, diversificando o uso de variáveis ao invés de a cada condição retornar um print. Sinto, também, que dessa forma damos mais foco no cálculo ao invés do texto de retorno, evitando a cada manutenção ter de revisar o texto retornado.*"
   ]
  },
  {
   "cell_type": "code",
   "execution_count": 8,
   "metadata": {},
   "outputs": [
    {
     "name": "stdout",
     "output_type": "stream",
     "text": [
      "=========== LOJAS GUANABARA ============\n",
      "FORMAS DE PAGAMENTO\n",
      "[ 1 ] à vista dinheiro/cheque\n",
      "[ 2 ] à vista cartão\n",
      "[ 3 ] 2x no cartão\n",
      "[ 4 ] 3x ou mais no cartão\n"
     ]
    }
   ],
   "source": [
    "#RESOLUÇÃO GUANABARA\n",
    "print('{:=^40}'.format(' LOJAS GUANABARA '))\n",
    "preço = float(input('Preço das compras: R$'))\n",
    "print('''FORMAS DE PAGAMENTO\n",
    "[ 1 ] à vista dinheiro/cheque\n",
    "[ 2 ] à vista cartão\n",
    "[ 3 ] 2x no cartão\n",
    "[ 4 ] 3x ou mais no cartão''')\n",
    "opção = int(input('Qual é a opção? '))\n",
    "\n",
    "if opção == 1:\n",
    "    total = preço - (preço * 10 / 100)\n",
    "elif opção == 2:\n",
    "    total = preço - (preço * 5 / 100)\n",
    "elif opção == 3:\n",
    "    total = preço\n",
    "    parcela = total / 2\n",
    "    print('Sua compra será parcelada em 2x de R${:.2f} SEM JUROS'.format(parcela))\n",
    "elif opção == 4:\n",
    "    total = preço + (preço * 20 / 100)\n",
    "    totparc = int(input('Quantas parcelas? '))\n",
    "    parcela = total / totparc\n",
    "    print('Sua compra será parcelada em {}x de R${:.2f} COM JUROS.'.format(totparc, parcela))\n",
    "else:\n",
    "    total = preço\n",
    "    print('OPÇÃO INVÁLIDA DE PAGAMENTO, Tente novamente')\n",
    "print('Sua compra de R${:.2f} vai custar R${:.2f} no final.'.format(preço, total))"
   ]
  },
  {
   "cell_type": "markdown",
   "metadata": {},
   "source": [
    ">NOTAS RESOLUÇÃO GUANABARA\n",
    "\n",
    ">- Guanabara realizou a seguinte formatação para centralizar e preencher com \"=\" o inicio e fim a informação do .format: {:=^40}, sendo:\n",
    ">   - = : caracter que será substituirá os espaços vazios. Pode-se usar qualquer outro caracter;\n",
    ">   - ^ : indica que a informação será centrelizada;\n",
    ">   - 40 : indica que serão utilizados 40 espaços para além do dado interior ao format, ou seja, será 20 espaços a esquerda / dadoFormat / 20 espaços a direita (já que indicamos centralização com o ^).\n",
    "> - Input do menu é parecido com o que fizemos, mas, não printamos o menu e em seguida abrimos uma variável, nós usamos o texto diretamente na atribuição da variável.\n",
    "\n",
    ">DIFERENÇAS INTERESSANTES\n",
    ">- Prints específicos para determinados elifs;\n",
    ">- Atribuição de valor pedindo em um elif específico, que será resultado de um print especifico deste mesmo elif.\n",
    ">- No fim, tem um print geral que é usado por todos, mas note que é relevada as especifidades em prints determinados.\n",
    ">- Com isso, é tratado em um elif a quantidade de parcelas também."
   ]
  },
  {
   "cell_type": "markdown",
   "metadata": {},
   "source": [
    "#### Desafio 45\n",
    "\n",
    "Crie um programa que faça o computador jogar jokenpô com você"
   ]
  },
  {
   "cell_type": "code",
   "execution_count": 60,
   "metadata": {},
   "outputs": [
    {
     "name": "stdout",
     "output_type": "stream",
     "text": [
      "-=-=-=-=-=-=-=-=-=-=-=-=-=-=-=-=-=-=-=-=-=-=-=-=-=-=-=-=-=-=\n",
      "JO-KEN-PY: Pedra, papel e tesoura em Python!\n",
      "-=-=-=-=-=-=-=-=-=-=-=-=-=-=-=-=-=-=-=-=-=-=-=-=-=-=-=-=-=-=\n",
      "Jo...\n",
      "Ken...\n",
      "Python!\n",
      "P1 ✋ x ✊ P2. O vencedor é Jogador 1!\n"
     ]
    }
   ],
   "source": [
    "#RESOLUÇÃO RONAN\n",
    "#METODO CONTRA COMPUTADOR, WIN CONDITION MAIOR/MENOR\n",
    "import emoji\n",
    "from random import randint\n",
    "from time import sleep\n",
    "\n",
    "#TITULO\n",
    "print('-='*30)\n",
    "print('JO-KEN-PY: Pedra, papel e tesoura em Python!')\n",
    "print('-='*30)\n",
    "\n",
    "#EMOJI SEMANTIC SETUP\n",
    "rock = ':raised_fist:'\n",
    "paper = ':raised_hand:'\n",
    "scisor = ':victory_hand:'\n",
    "\n",
    "#INPUT SECTION\n",
    "p1 = int(input(emoji.emojize(\"\"\"Faça sua escolha:\n",
    "- (1){r}\n",
    "- (2){p}\n",
    "- (3){s}\"\"\".format(r = rock, p = paper, s = scisor))))\n",
    "p2 = randint(1, 3)\n",
    "\n",
    "#INPUT NUM VALIDATION\n",
    "if p1 >= 1 and p1 <= 3 and p2 >= 1 and p2 <= 3:\n",
    "    #EMOJI PLAYER CHOICE\n",
    "        #p1 choice\n",
    "    if p1 == 1:\n",
    "        p1Choice = ':raised_fist:'\n",
    "    elif p1 == 2:\n",
    "        p1Choice = ':raised_hand:'\n",
    "    elif p1 == 3:\n",
    "        p1Choice = ':victory_hand:'\n",
    "        #p2 choice\n",
    "    if p2 == 1:\n",
    "        p2Choice = ':raised_fist:'\n",
    "    elif p2 == 2:\n",
    "        p2Choice = ':raised_hand:'\n",
    "    elif p2 == 3:\n",
    "        p2Choice = ':victory_hand:'\n",
    "\n",
    "    #WIN CONDITION VALIDATION\n",
    "    if p1 > p2 and (p2 != 1 or p1 != 3):\n",
    "        ganhador = 'Jogador 1'\n",
    "    elif p2 == 1 and p1 == 3:\n",
    "        ganhador = 'Jogador 2'\n",
    "    elif p2 > p1 and (p1 != 1 or p2 != 3):\n",
    "        ganhador = 'Jogador 2'\n",
    "    else:\n",
    "        ganhador = 'Jogador 1'\n",
    "\n",
    "    #JO! KEN! PYTHON!\n",
    "    print('Jo...')\n",
    "    sleep(.5)\n",
    "    print('Ken...')\n",
    "    sleep(.5)\n",
    "    print('Python!')\n",
    "    sleep(0.2)\n",
    "\n",
    "    #IF DRAW, ELSE WINCONDITION\n",
    "    if p1 == p2:\n",
    "        print(emoji.emojize('P1 {} x {} P2. O resultado é: EMPATE!'.format(p1Choice, p2Choice)))\n",
    "    else:\n",
    "        print(emoji.emojize('P1 {} x {} P2. O vencedor é {}!'.format(p1Choice, p2Choice, ganhador)))\n",
    "else:\n",
    "    print('Escolha invalida: P1 ou P2, Insira um numero de 1 a 3')"
   ]
  },
  {
   "cell_type": "markdown",
   "metadata": {},
   "source": [
    ">NOTAS DE DEBUGGING\n",
    "\n",
    ">DEBUGGING WIN CONDITION\n",
    ">- Primeiro win condition, conforme a seguir, equivocado. Fazer duas condições que validam a mesma coisa, dessa maneira, é reduntante e existe outro bug observado no seguinte snipet:\n",
    "\n",
    "```python\n",
    "    #WIN CONDITION VALIDATION\n",
    "    if p1 > p2 and p1 != 1 or p2 != 3:\n",
    "        ganhador = 'Jogador 1'\n",
    "    else:\n",
    "        ganhador = 'Jogador 2'\n",
    "\n",
    "    if p2 > p1 and p2 != 1 or p1 != 3:\n",
    "        ganhador = 'Jogador 2'\n",
    "    else:\n",
    "        ganhador = 'Jogador 1'\n",
    "```\n",
    "\n",
    ">- A ideia deste snipet foi vertificar se os valores de P1 são superiores de P2. Em todas as condições onde isso ocorre, P1 vence, já que a ordem fo jo-ken-po é:\n",
    ">1. Pedra\n",
    ">2. Papel\n",
    ">3. Tesoura\n",
    ">- Logo, 3 ganha de 2 e 2 ganha de 1, sendo, p1 > p2 = p1 vence. Porém, há a excessão: 3 não ganha de 1, 1 que ganha de 3, então, inseridmos:\n",
    ">1. P1 ganha se for maior que P2\n",
    ">2. Mas, para P1 ganhar, P1 tem de ser diferente de 1 (pedra)\n",
    ">3. OU P2 tem de ser diferente de 3 (tesoura)\n",
    ">- Sendo a 1º afirmativa verdadeira e a 2º ou a 3º verdadeira, o Jogador 1 é vitorioso.\n",
    ">- Retornamos verdadeiro para a condição desejada e, caso contrario, o valor invertido seguindo para a próxima condição, que validará o valor invertido.\n",
    "\n",
    ">ONDE ESTA O BUG\n",
    ">- Inicialmente, imaginou-se que o bug estava na sobrescrição da segunda validação sobre a primeira, mas, não é isso. Mesmo que isso estivesse ocorrendo, a segunda condição retorna o valor verdadeiro da primeira, logo, o resultado deveria ser o desejado.\n",
    ">- O bug se encontra na equação da condição, onde também segue a Ordem de Precedência: afirmativa1 E afirmativa2 OU afirmativa3, não é a mesma coisa que afirmativa1 E (afirmativa2 OU afirmativa3), sendo a ultima a que desejamos.\n",
    ">- Demonstrando a lógica frente ao resultado que estava \"bugando\", que é P1 = 2 e P3 = 1, sendo a1: P2 > P1, a2: p2 != 1 e a3: p1 != 3:\n",
    ">1. a1(F), a2(V), a3(V)\n",
    ">2. Sem parenteses: a1 E a2 OU a3 > a1(F) E a2(V) = (F) > (F) OU a3(V) = V > logo, retorna o valor verdadeiro de ganhador = 'Jogador 2'\n",
    ">3. Com parenteses: a1 E (a2 OU a3) > (a2(V) OU a3(V)) = V > a1(F) E (V) = (F) > logo, retorna o valor falso de ganhador = 'Jogador 1'\n",
    "\n",
    ">SNIPET CORRIGIDO\n",
    "```python\n",
    "    #WIN CONDITION VALIDATION\n",
    "    if p1 > p2 and (p1 != 1 or p2 != 3):\n",
    "        ganhador = 'Jogador 1'\n",
    "    else:\n",
    "        ganhador = 'Jogador 2'\n",
    "\n",
    "    if p2 > p1 and (p2 != 1 or p1 != 3):\n",
    "        ganhador = 'Jogador 2'\n",
    "    else:\n",
    "        ganhador = 'Jogador 1'\n",
    "```\n",
    "\n",
    ">MELHORANDO AINDA MAIS O SNIPET: Retirando redundancia\n",
    ">- A parte redundante do código é: Fazemos uma validação, se verdadeira o ganhador é o Jogador 1, se falso é Jogador 2 e logo em seguida validamos de novo, onde se verdadeiro o ganhador é Jogador 2 e se falso é Jogdor 1.\n",
    ">- Como estamos validando os resultados invertidos da mesma condição, podemos utilizar o elif para torná-lo direto ao ponto:\n",
    "\n",
    "```python\n",
    "    #WIN CONDITION VALIDATION\n",
    "    if p1 > p2 and (p1 != 1 or p2 != 3):\n",
    "        ganhador = 'Jogador 1'\n",
    "    elif p2 > p1 and (p2 != 1 or p1 != 3):\n",
    "        ganhador = 'Jogador 2'\n",
    "    else:\n",
    "        ganhador = 'Jogador 1'\n",
    "```\n",
    ">- Agora dizemos: Se a condição 1 é verdadeira, ganhador é Jogador 1, se não se a segunda condição é verdadeira, ganhador é o jogador 2 e, senão (se a 1º for falsa e a 2º for falsa), o ganhador é o Jogador 1.\n",
    ">- Basicamente, é uma estrutura mais enxuta da acima.\n",
    "\n",
    "> CONTINUAÇÃO DO DEBUG:\n",
    ">BUGGIN QUANDO P1 = 3 E P2 = 1\n",
    ">- Bugging relatado independente da adoção da forma enxuta ou da forma \"redundante\".\n",
    ">- Bugging continua mesmo passando o and como elif ao invés do else.\n",
    "\n",
    ">SNIPET CORRIGIDO 2\n",
    "```python\n",
    "    #WIN CONDITION VALIDATION\n",
    "    if p1 > p2 and (p2 != 1 or p1 != 3):\n",
    "        ganhador = 'Jogador 1'\n",
    "    elif p2 == 1 and p1 == 3:\n",
    "        ganhador = 'Jogador 2'\n",
    "    elif p2 > p1 and (p1 != 1 or p2 != 3):\n",
    "        ganhador = 'Jogador 2'\n",
    "    else:\n",
    "        ganhador = 'Jogador 1'\n",
    "```\n",
    ">Acrescentamos o `elif p2 == 1 and p1 == 3:` para verificar a excessão de quando o P1 é igual a 3 e o P2 igual a 1. Importante utilizarmos o elif para verificar de forma sequencial e não gerar sobrescrição."
   ]
  },
  {
   "cell_type": "markdown",
   "metadata": {},
   "source": [
    ">NOTAS GERAIS\n",
    "\n",
    ">- Utilizado ferramentas que aprendemos até o momento. Com Do/While, Switch case e estrutura de loop possivelmente podemos otimizar este código."
   ]
  },
  {
   "cell_type": "code",
   "execution_count": 7,
   "metadata": {},
   "outputs": [
    {
     "name": "stdout",
     "output_type": "stream",
     "text": [
      "Suas opções:\n",
      "[ 0 ] PEDRA\n",
      "[ 1 ] PAPEL\n",
      "[ 2 ] TESOURA\n",
      "Computador jogou 0.\n",
      "A\n"
     ]
    }
   ],
   "source": [
    "#RESOLUÇÃO GUANABARA\n",
    "from random import randint\n",
    "from time import sleep\n",
    "itens = ('Pedra', 'Papel', 'Tesoura')\n",
    "computador = randint(0, 2)\n",
    "# print('O compudaor escolheu {}.'.format(itens[computador])) # Aqui, retorna o valor randomico de 0 a 2 (variável computador) como indice da tupla itens, ou seja, retornando o que o computador \"escolheu\" dos itens.\n",
    "print('''Suas opções:\n",
    "[ 0 ] PEDRA\n",
    "[ 1 ] PAPEL\n",
    "[ 2 ] TESOURA''')\n",
    "jogador = int(input('Qual é a sua jogada? '))\n",
    "print('JO')\n",
    "sleep(1)\n",
    "print('KEN')\n",
    "sleep(1)\n",
    "print('PO!!!')\n",
    "print('-=' * 11)\n",
    "print('Computador jogou {}.'.format(itens[computador]))\n",
    "print('Jogador jogou {}'.format(itens[jogador]))\n",
    "print('-=' * 11)\n",
    "if computador == 0: # Computador jogou PEDRA\n",
    "    if jogador == 0: # Jogador jogou PEDRA\n",
    "        print('EMPATE')\n",
    "    elif jogador == 1: # Jogador jogou PAPEL\n",
    "        print('JOGADOR VENCE')\n",
    "    elif jogador == 2: # Jogador jogou TESOURA\n",
    "        print('COMPUTADOR VENCE')\n",
    "    else:\n",
    "        print('JOGADA INVALIDA')\n",
    "elif computador == 1: # Computador jogou PAPEL\n",
    "    if jogador == 0: # Jogador jogou PEDRA\n",
    "        print('COMPUTADOR VENCE')\n",
    "    elif jogador == 1: # Jogador jogou PAPEL\n",
    "        print('EMPATE')\n",
    "    elif jogador == 2: # Jogador jogou TESOURA\n",
    "        print('JOGADOR VENCE')\n",
    "    else:\n",
    "        print('JOGADA INVALIDA')\n",
    "elif computador == 2: # Computador jogou TESOURA\n",
    "    if jogador == 0: # Jogador jogou PEDRA\n",
    "        print('JOGADOR VENCE')\n",
    "    elif jogador == 1: # Jogador jogou PAPEL\n",
    "        print('COMPUTADOR VENCE')\n",
    "    elif jogador == 2: # Jogador jogou TESOURA\n",
    "        print('EMPATE')\n",
    "    else:\n",
    "        print('JOGADA INVALIDA')\n"
   ]
  },
  {
   "cell_type": "markdown",
   "metadata": {},
   "source": [
    ">NOTAS RESOLUÇÃO GUANABARA\n",
    "\n",
    ">- Neste exercicio, Guanabara usou tupla. Usando-a, podemos substituir o meu snipet que define os simbolos utilizados pelo computador pela seleção da tupla, ou seja, `itens[computador]`, ou seja, se o computador esolher 0, o indice da tupla selecionada será `Pedra`, que é o item 0 da tupla `itens`.\n",
    ">- Funcionalidade parecida com a nossa resolução, inclusive com as pausas do \"Jo Ken Po!\".\n",
    ">- Programa Guanabara mais curto nas escolhas dos jogadores com a utilização em tupla e a nossa Win Condition é mais curto, pois fazemos uma validação unica usando operadores lógicos e Guanabara escreveu condição de vitório por condição de vitória."
   ]
  }
 ],
 "metadata": {
  "kernelspec": {
   "display_name": "Python 3",
   "language": "python",
   "name": "python3"
  },
  "language_info": {
   "codemirror_mode": {
    "name": "ipython",
    "version": 3
   },
   "file_extension": ".py",
   "mimetype": "text/x-python",
   "name": "python",
   "nbconvert_exporter": "python",
   "pygments_lexer": "ipython3",
   "version": "3.12.0"
  }
 },
 "nbformat": 4,
 "nbformat_minor": 2
}
