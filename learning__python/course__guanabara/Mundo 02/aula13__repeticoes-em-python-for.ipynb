{
 "cells": [
  {
   "cell_type": "markdown",
   "metadata": {},
   "source": [
    "[Markdown - VSCode, métodos de otimização](https://code.visualstudio.com/docs/languages/markdown) \n",
    "\n",
    "[Markdown - Alura](https://www.alura.com.br/artigos/como-trabalhar-com-markdown)\n",
    "\n",
    "# <span style=\"color: #87BBA2\">===   REPETIÇÕES EM PYTHON (FOR)   ===</span>\n",
    "\n",
    "## <span style=\"color: #87BBA2\">Aula 13 - Estrutura de repetição for</span>\n",
    ">Até o momento, você aprendeu a desviar das coisas. Agora, você aprenderá a repetir elas.\n",
    "\n",
    "### Introdução\n",
    "As repetições, também chamados de laços, iterações ou loops, também são estruturas de controle.\n",
    "\n",
    "### Exemplo do passo a passo\n",
    "\n",
    "![Step by step image](./image/m2a13_exemploPasso_1.PNG)\n",
    "\n",
    "Neste exemplo, Guanabara descreve que para o personagem percorrer o número de blocos foi necessário dar o comando de passo 5 vezes até chegar no comando para pegar a maçã. Ao lado esquerdo, vemos a representação em imagem de como seria um algoritmo para o deslocamento do personagem. Perceba que o algoritmo possui os mesmos comandos que se repetem.\n",
    "\n",
    "Em seguida, Guanabara usa como exemplo o acrescimo do número de \"chãos\", dizendo:\n",
    ">Aumentando o número de chãos, o percurso tornará mais longo e deverá, também, aumentar o número do mesmo comando dado. Se o aumento for pequeno, pouco será sentido caso opte por ajustar o algoritmo sem laço de repetição, mas, se o projeto escalar (por exemplo, de 5 chãos vai para 500 ou até 10 milhões de passos), fazer esse aumento na mão se torna inviável. Aí entra a estrutura de laço (repetição), que toda linguagem de programação tem.\n",
    "\n",
    "![Step by step loop image](./image/m2a13_exemploPasso_2.PNG)\n",
    "Já neste exemplo, Guanabara utiliza o simbolo circular para representar repetição. Nele, indica-se o laço de repetição e em seguida define o comando \"passo\", o qual será repetido em cumprimento à propriedade inserida de 1 a 10, ou seja \"repita este processo da 1º casa até a 10º\", chegando na 10º casa (ou 10º repetição), satisfaz-se a condição do laço e o código prossegue, que no caso, é a realização do comando \"pegar\".\n",
    ">É importante definir a propriedade da repetição, pois, se não houver condição para ser satisfeita e deixar o laço, apenas, a repetição ocorrerá para sempre e, neste caso, o personagem percorreria todo percurso até cair da plataforma.\n",
    "\n",
    "Este tipo de laço de repetição (ou laço de iteração) acima representado é chamado de **Laço com variável de controle**.\n",
    "\n",
    "#### Representação em algoritmo\n",
    "Escrevendo em português estruturado:\n",
    "```python\n",
    "# Comandos \"passo\" e \"pega\" são representações fictícias da imagem acima.\n",
    "laço c no intervalo(1,10)\n",
    "    passo\n",
    "pega\n",
    "```\n",
    "Escrevendo em Python:\n",
    "```python\n",
    "# Comandos \"passo\" e \"pega\" são representações fictícias da imagem acima.\n",
    "for c in range(1,10): # Importante colocar os dois pontos :\n",
    "    passo \n",
    "pega\n",
    "```\n",
    "\n",
    "### Exemplo do passo e pula\n",
    "![Step n jump image](./image/m2a13_exemploPasso_3.PNG)\n",
    "\n",
    "Agora, Guanabara apresenta outro cenário, que é utilizando comandos de \"passo\" e \"pula\", uma vez que se usarmos apenas \"passo\" o personagem pode cair nos buracos entre as plataformas. Note que no final a estrutura de \"passo\" e \"pula\" não se repete, pois, se caso repetisse mais uma vez o personagem passaria por cima da maça e cairia no buraco, por isso, finalizou com \"passo\" e \"pega\".\n",
    "\n",
    "![Step n jump loop image](./image/m2a13_exemploPasso_4.PNG)\n",
    "Em seguida, Guanabara pega o primeiro algoritmo e constrói um segundo algoritmo utilizando laço de repetição, respeitando a funcionalidade do primeiro algoritmo. Note que a condição é para repetir do indice 0 ao indice 3 e precisariamos repetir 3 vezes para ser igual ao primeiro algoritmo. Apesar de 0 a 3 dar 4, na estrutura de repetição ele percorrera 3 vezes.\n",
    "> Ronan: Eu suspeito que de 0 a 3 ocorrem 3 repetições, ao invés de 4 repetiçoes, pois, ao contrário de \"Do/While\", ao ser alcançado o range final o código não roda novamente. Ou seja, satisfazendo a chegada no indice 3, o código não roda.\n",
    "> - Creio que a ordem seria: Indice 0? Executa ação. Indice 1? Executa ação. Indice 2? Executa ação. Indice 3? Chegamos, encerra o loop (não executa ação).\n",
    "\n",
    "Guanabara diz:\n",
    ">Estrutura de laço é algo importantíssimo em qualquer linguagem.\n",
    "\n",
    "#### Representação em algoritmo\n",
    "```python\n",
    "# Comandos \"passo\", \"pula\" e \"pega\" são representações fictícias da imagem acima.\n",
    "laço c no intervalo(0,3)\n",
    "    passo\n",
    "    pula\n",
    "passo\n",
    "pega\n",
    "```\n",
    "Escrevendo em Python:\n",
    "```python\n",
    "# Comandos \"passo\", \"pula\" e \"pega\" são representações fictícias da imagem acima.\n",
    "for c in range (0,3):\n",
    "    passo\n",
    "    pula\n",
    "passo\n",
    "pega\n",
    "```\n",
    "\n",
    "### Exemplo do passo, pula e pega\n",
    "![Step n jump n grab image](./image/m2a13_exemploPasso_5.PNG)\n",
    "\n",
    "Uma terceira situação é a apresentada: Além de andar e pular, podemos utilizar uma estrutura de controle condicional para validar se existe moedas e, caso existir, pega-las. Se essa ação estivesse sem a estrutura condicional, a ação de pegar seria realizada mas nada aconteceria, apenas faria o personagem perder tempo (talvez, podemos fazer analogia em o computador utilizar processamento sem motivo).\n",
    "\n",
    "Esse exemplo mostra uma **estrutura aninha**, ou seja, neste caso é uma **estrutura condicional aninhada a uma estrutura de laço**.\n",
    "\n",
    "#### Representação em algoritmo\n",
    "```python\n",
    "# Comandos \"passo\", \"pula\" e \"pega\" e validação de \"moeda\" são representações fictícias da imagem acima.\n",
    "laço c no intervalo(0,3)\n",
    "    se moeda:\n",
    "        pega\n",
    "    passo\n",
    "    pula\n",
    "passo\n",
    "pega\n",
    "```\n",
    "Escrevendo em Python:\n",
    "```python\n",
    "# Comandos \"passo\", \"pula\" e \"pega\" e validação de \"moeda\" são representações fictícias da imagem acima.\n",
    "for c in range (0,3):\n",
    "    if moeda:\n",
    "        pega\n",
    "    passo\n",
    "    pula\n",
    "passo\n",
    "pega\n",
    "```"
   ]
  },
  {
   "cell_type": "markdown",
   "metadata": {},
   "source": [
    "### <span style=\"color: #87BBA2\">Na Pratica</span>"
   ]
  },
  {
   "cell_type": "code",
   "execution_count": 2,
   "metadata": {},
   "outputs": [
    {
     "name": "stdout",
     "output_type": "stream",
     "text": [
      "Oi\n",
      "Oi\n",
      "Oi\n",
      "Oi\n",
      "Oi\n",
      "Oi\n"
     ]
    }
   ],
   "source": [
    "# Sem laço de repetição\n",
    "print('Oi')\n",
    "print('Oi')\n",
    "print('Oi')\n",
    "print('Oi')\n",
    "print('Oi')\n",
    "print('Oi')"
   ]
  },
  {
   "cell_type": "code",
   "execution_count": 3,
   "metadata": {},
   "outputs": [
    {
     "name": "stdout",
     "output_type": "stream",
     "text": [
      "Oi\n",
      "Oi\n",
      "Oi\n",
      "Oi\n",
      "Oi\n",
      "Oi\n",
      "FIM\n"
     ]
    }
   ],
   "source": [
    "# Com laço de repetição\n",
    "for c in range(0, 6):\n",
    "    print('Oi')\n",
    "print('FIM')\n",
    "\n",
    "# Note que foram printados 6 \"Oi\", e não 7. Guanabara confirmou que será repetido do 0 até 5 e no 6 o codigo para, ou seja, o ultimo número não é levado em consideração na repetição e sim é o indicador de que momento o loop deve parar."
   ]
  },
  {
   "cell_type": "code",
   "execution_count": 4,
   "metadata": {},
   "outputs": [
    {
     "name": "stdout",
     "output_type": "stream",
     "text": [
      "Oi\n",
      "FIM\n",
      "Oi\n",
      "FIM\n",
      "Oi\n",
      "FIM\n",
      "Oi\n",
      "FIM\n",
      "Oi\n",
      "FIM\n",
      "Oi\n",
      "FIM\n"
     ]
    }
   ],
   "source": [
    "# Com laço de repetição, mudando só uma indentação\n",
    "for c in range(0, 6):\n",
    "    print('Oi')\n",
    "    print('FIM')\n",
    "\n",
    "# Veja explicação da quantidade de repetições no codigo acima."
   ]
  },
  {
   "cell_type": "code",
   "execution_count": 5,
   "metadata": {},
   "outputs": [
    {
     "name": "stdout",
     "output_type": "stream",
     "text": [
      "0\n",
      "1\n",
      "2\n",
      "3\n",
      "4\n",
      "5\n",
      "FIM\n"
     ]
    }
   ],
   "source": [
    "# Com laço de repetição, mudando só uma indentação\n",
    "for c in range(0, 6):\n",
    "    print(c)\n",
    "print('FIM')\n",
    "# Veja explicação da quantidade de repetições no codigo acima."
   ]
  },
  {
   "cell_type": "code",
   "execution_count": 6,
   "metadata": {},
   "outputs": [
    {
     "name": "stdout",
     "output_type": "stream",
     "text": [
      "FIM\n"
     ]
    }
   ],
   "source": [
    "# Com laço de repetição, mudando só uma indentação\n",
    "for c in range(6, 0):\n",
    "    print(c)\n",
    "print('FIM')\n",
    "# Nada acontece, pois começa no 6 (maior indice, o indice indicado para encerramento [flag])"
   ]
  },
  {
   "cell_type": "code",
   "execution_count": 10,
   "metadata": {},
   "outputs": [
    {
     "name": "stdout",
     "output_type": "stream",
     "text": [
      "6\n",
      "5\n",
      "4\n",
      "3\n",
      "2\n",
      "1\n",
      "FIM\n"
     ]
    }
   ],
   "source": [
    "# Com laço de repetição, mudando só uma indentação\n",
    "# Se o intuito era contar de trás pra frente, então:\n",
    "for c in range(6, 0, -1):\n",
    "    print(c)\n",
    "print('FIM')\n",
    "# É necessário acrescentar o -1 como ultimo parametro. Creio que este seja o padrão de iteração. -1, começa no ultimo e percorre de trás pra frente."
   ]
  },
  {
   "cell_type": "code",
   "execution_count": 11,
   "metadata": {},
   "outputs": [
    {
     "name": "stdout",
     "output_type": "stream",
     "text": [
      "0\n",
      "2\n",
      "4\n",
      "FIM\n"
     ]
    }
   ],
   "source": [
    "# Com laço de repetição, mudando só uma indentação\n",
    "for c in range(0, 6, 2):\n",
    "    print(c)\n",
    "print('FIM')\n",
    "# Foi de 2 em 2, pois, range(indice_inicio, indice_fim, padrão_iteracao)"
   ]
  },
  {
   "cell_type": "code",
   "execution_count": 12,
   "metadata": {},
   "outputs": [
    {
     "name": "stdout",
     "output_type": "stream",
     "text": [
      "0\n",
      "1\n",
      "2\n",
      "3\n",
      "4\n",
      "5\n",
      "6\n",
      "7\n",
      "8\n",
      "9\n",
      "10\n",
      "FIM\n"
     ]
    }
   ],
   "source": [
    "# Laço de repetição utilizando variável como parte de passagem do for.\n",
    "n = int(input('Digite um número: '))\n",
    "for c in range(0, n + 1): # Só para o código ir até o valor inserido. Sem o +1 o valor inserido é onde o código para (flag).\n",
    "    print(c)\n",
    "print('FIM')"
   ]
  },
  {
   "cell_type": "code",
   "execution_count": 14,
   "metadata": {},
   "outputs": [
    {
     "name": "stdout",
     "output_type": "stream",
     "text": [
      "Inicio: 2\n",
      "Fim: 8\n",
      "Passo: 2\n",
      "2\n",
      "4\n",
      "6\n",
      "8\n",
      "FIM\n"
     ]
    }
   ],
   "source": [
    "# Laço de repetição utilizando variável como parte de passagem do for.\n",
    "i = int(input('Inicio: '))\n",
    "print('Inicio: {}'.format(i))\n",
    "f = int(input('Fim: '))\n",
    "print('Fim: {}'.format(f))\n",
    "p = int(input('Passo: '))\n",
    "print('Passo: {}'.format(p))\n",
    "for c in range(i, f + 1, p):\n",
    "    print(c)\n",
    "print('FIM')"
   ]
  },
  {
   "cell_type": "code",
   "execution_count": 15,
   "metadata": {},
   "outputs": [
    {
     "name": "stdout",
     "output_type": "stream",
     "text": [
      "Valor inserido: 1\n",
      "Valor inserido: 2\n",
      "Valor inserido: 5\n",
      "FIM\n"
     ]
    }
   ],
   "source": [
    "# Laço de repetição com input dentro\n",
    "for c in range(0, 3):\n",
    "    n = int(input('Digite um valor: '))\n",
    "    print('Valor inserido: {}'.format(n))\n",
    "print('FIM')"
   ]
  },
  {
   "cell_type": "code",
   "execution_count": 16,
   "metadata": {},
   "outputs": [
    {
     "name": "stdout",
     "output_type": "stream",
     "text": [
      "Valor inserido: 2\n",
      "Valor inserido: 2\n",
      "Valor inserido: 3\n",
      "Valor inserido: 5\n",
      "O somatório de todos os valores foi 12\n"
     ]
    }
   ],
   "source": [
    "# Laço com input e somatório dentro\n",
    "s = 0\n",
    "for c in range(0, 4):\n",
    "    n = int(input('Digite um valor: '))\n",
    "    print('Valor inserido: {}'.format(n))\n",
    "    s += n # Mesmo que s = s + n, ou seja, resultará na somatória total desses inputs pois a cada laço será somado o valor inseridos na variável s.\n",
    "    # Em resumo, variável s será a somatória de todos os inputs, pois, inicia laço, pede numero, s soma s (0) com input > passa laço, pede numero, s (novo valor) soma s (novo valor) com input novo e por ai vai.\n",
    "print('O somatório de todos os valores foi {}'.format(s))"
   ]
  },
  {
   "cell_type": "markdown",
   "metadata": {},
   "source": [
    "### <span style=\"color: #87BBA2\">===   Exercicios!   ===</span>"
   ]
  },
  {
   "cell_type": "markdown",
   "metadata": {},
   "source": [
    "#### Exercicio 46\n",
    "\n",
    "Faça um programa que mostre na tela uma contagem regressiva para o estouro de fogos de artifício, indo de 10 até 0, com uma pausa de 1 segundo entre eles.\n",
    "\n",
    "> Mostra emoji de fogos estourando ou afins"
   ]
  },
  {
   "cell_type": "code",
   "execution_count": null,
   "metadata": {},
   "outputs": [],
   "source": [
    "# RESOLUÇÃO RONAN"
   ]
  },
  {
   "cell_type": "markdown",
   "metadata": {},
   "source": [
    ">*NOTAS DO PROJETO*\n",
    "\n",
    ">-"
   ]
  },
  {
   "cell_type": "code",
   "execution_count": null,
   "metadata": {},
   "outputs": [],
   "source": [
    "# RESOLUÇÃO PROFESSOR"
   ]
  },
  {
   "cell_type": "markdown",
   "metadata": {},
   "source": [
    ">NOTAS RESOLUÇÃO PROFESSOR\n",
    "\n",
    ">- "
   ]
  },
  {
   "cell_type": "markdown",
   "metadata": {},
   "source": [
    "#### Exercicio 47\n",
    "\n",
    "Crie um programa que mostre na tela todos os números pares que estão no intervalo entre 1 e 50"
   ]
  },
  {
   "cell_type": "code",
   "execution_count": null,
   "metadata": {},
   "outputs": [],
   "source": [
    "# RESOLUÇÃO RONAN"
   ]
  },
  {
   "cell_type": "markdown",
   "metadata": {},
   "source": [
    ">*NOTAS DO PROJETO*\n",
    "\n",
    ">-"
   ]
  },
  {
   "cell_type": "code",
   "execution_count": null,
   "metadata": {},
   "outputs": [],
   "source": [
    "# RESOLUÇÃO PROFESSOR"
   ]
  },
  {
   "cell_type": "markdown",
   "metadata": {},
   "source": [
    ">NOTAS RESOLUÇÃO PROFESSOR\n",
    "\n",
    ">- "
   ]
  },
  {
   "cell_type": "markdown",
   "metadata": {},
   "source": [
    "#### Exercicio 48\n",
    "\n",
    "Faça um programa que calcule a soma entre todos os números impares que são múltiplos de três e que se encontram no intervalo de 1 até 500."
   ]
  },
  {
   "cell_type": "code",
   "execution_count": null,
   "metadata": {},
   "outputs": [],
   "source": [
    "# RESOLUÇÃO RONAN"
   ]
  },
  {
   "cell_type": "markdown",
   "metadata": {},
   "source": [
    ">*NOTAS DO PROJETO*\n",
    "\n",
    ">-"
   ]
  },
  {
   "cell_type": "code",
   "execution_count": null,
   "metadata": {},
   "outputs": [],
   "source": [
    "# RESOLUÇÃO PROFESSOR"
   ]
  },
  {
   "cell_type": "markdown",
   "metadata": {},
   "source": [
    ">NOTAS RESOLUÇÃO PROFESSOR\n",
    "\n",
    ">- "
   ]
  },
  {
   "cell_type": "markdown",
   "metadata": {},
   "source": [
    "#### Exercicio 49\n",
    "\n",
    "Refaça o DESAFIO 009, mostrando a tabuada de um número que o usuário escolher, só que agora utilizando um laço for."
   ]
  },
  {
   "cell_type": "code",
   "execution_count": null,
   "metadata": {},
   "outputs": [],
   "source": [
    "# RESOLUÇÃO RONAN"
   ]
  },
  {
   "cell_type": "markdown",
   "metadata": {},
   "source": [
    ">*NOTAS DO PROJETO*\n",
    "\n",
    ">-"
   ]
  },
  {
   "cell_type": "code",
   "execution_count": null,
   "metadata": {},
   "outputs": [],
   "source": [
    "# RESOLUÇÃO PROFESSOR"
   ]
  },
  {
   "cell_type": "markdown",
   "metadata": {},
   "source": [
    ">NOTAS RESOLUÇÃO PROFESSOR\n",
    "\n",
    ">- "
   ]
  },
  {
   "cell_type": "markdown",
   "metadata": {},
   "source": [
    "#### Exercicio 50\n",
    "\n",
    "Desenvolva um programa que leia seis números inteiros e mostre a soma apenas daqueles que forem pares. Se o valor digitado for impar, desconsidere-o."
   ]
  },
  {
   "cell_type": "code",
   "execution_count": null,
   "metadata": {},
   "outputs": [],
   "source": [
    "# RESOLUÇÃO RONAN"
   ]
  },
  {
   "cell_type": "markdown",
   "metadata": {},
   "source": [
    ">*NOTAS DO PROJETO*\n",
    "\n",
    ">-"
   ]
  },
  {
   "cell_type": "code",
   "execution_count": null,
   "metadata": {},
   "outputs": [],
   "source": [
    "# RESOLUÇÃO PROFESSOR"
   ]
  },
  {
   "cell_type": "markdown",
   "metadata": {},
   "source": [
    ">NOTAS RESOLUÇÃO PROFESSOR\n",
    "\n",
    ">- "
   ]
  },
  {
   "cell_type": "markdown",
   "metadata": {},
   "source": [
    "#### Exercicio 51\n",
    "\n",
    "Desenvolva um programa que leia o primeiro termo e a razão de uma PA (Progressão Aritmética). No final, mostre os 10 primeiros termos dessa progressão.\n",
    ">Realizar contagem de um número até outro pulando de X a Y. Igual ao exercício de ir do 1 ao 100 pulando de 10 em 10."
   ]
  },
  {
   "cell_type": "code",
   "execution_count": null,
   "metadata": {},
   "outputs": [],
   "source": [
    "# RESOLUÇÃO RONAN"
   ]
  },
  {
   "cell_type": "markdown",
   "metadata": {},
   "source": [
    ">*NOTAS DO PROJETO*\n",
    "\n",
    ">-"
   ]
  },
  {
   "cell_type": "code",
   "execution_count": null,
   "metadata": {},
   "outputs": [],
   "source": [
    "# RESOLUÇÃO PROFESSOR"
   ]
  },
  {
   "cell_type": "markdown",
   "metadata": {},
   "source": [
    ">NOTAS RESOLUÇÃO PROFESSOR\n",
    "\n",
    ">- "
   ]
  },
  {
   "cell_type": "markdown",
   "metadata": {},
   "source": [
    "#### Exercicio 52\n",
    "\n",
    "Faça um programa que leia um número inteiro e diga se ele é ou não um número primo.\n",
    ">Número primo: Divisível só por 1 e por ele mesmo. Nenhum número no intervalo ele será divisível."
   ]
  },
  {
   "cell_type": "code",
   "execution_count": null,
   "metadata": {},
   "outputs": [],
   "source": [
    "# RESOLUÇÃO RONAN"
   ]
  },
  {
   "cell_type": "markdown",
   "metadata": {},
   "source": [
    ">*NOTAS DO PROJETO*\n",
    "\n",
    ">-"
   ]
  },
  {
   "cell_type": "code",
   "execution_count": null,
   "metadata": {},
   "outputs": [],
   "source": [
    "# RESOLUÇÃO PROFESSOR"
   ]
  },
  {
   "cell_type": "markdown",
   "metadata": {},
   "source": [
    ">NOTAS RESOLUÇÃO PROFESSOR\n",
    "\n",
    ">- "
   ]
  },
  {
   "cell_type": "markdown",
   "metadata": {},
   "source": [
    "#### Exercicio 53\n",
    "\n",
    "Crie um programa que leia uma frase qualquer e diga se ela é um palindromo, desconsiderando os espaços.\n",
    "> Palindro: frase que le de frente pra trás e de trás pra frente tendo o mesmo valor, como:\n",
    "> - APOS A SOPA\n",
    "> - A SACADA DA CASA\n",
    "> - A TORRE DA DERROTA\n",
    "> - O LOBO AMA O BOLO\n",
    "> - ANOTARAM A DATA DA MARATONA\n",
    ">\n",
    "> No nosso programa digitaremos com espaços e nosso programa retirará os espaços entre palavras.\n",
    "> Desconsidere os acentos, pode digitar sem eles."
   ]
  },
  {
   "cell_type": "code",
   "execution_count": null,
   "metadata": {},
   "outputs": [],
   "source": [
    "# RESOLUÇÃO RONAN"
   ]
  },
  {
   "cell_type": "markdown",
   "metadata": {},
   "source": [
    ">*NOTAS DO PROJETO*\n",
    "\n",
    ">-"
   ]
  },
  {
   "cell_type": "code",
   "execution_count": null,
   "metadata": {},
   "outputs": [],
   "source": [
    "# RESOLUÇÃO PROFESSOR"
   ]
  },
  {
   "cell_type": "markdown",
   "metadata": {},
   "source": [
    ">NOTAS RESOLUÇÃO PROFESSOR\n",
    "\n",
    ">- "
   ]
  },
  {
   "cell_type": "markdown",
   "metadata": {},
   "source": [
    "#### Exercicio 54\n",
    "\n",
    "Crie um programa que leia o ano de nascimento de sete pessoas. No final, mostre quantas pessoas ainda não antigiram a maioridade e quantas já são maiores.\n",
    "> Considere a maior idade com 21 anos."
   ]
  },
  {
   "cell_type": "code",
   "execution_count": null,
   "metadata": {},
   "outputs": [],
   "source": [
    "# RESOLUÇÃO RONAN"
   ]
  },
  {
   "cell_type": "markdown",
   "metadata": {},
   "source": [
    ">*NOTAS DO PROJETO*\n",
    "\n",
    ">-"
   ]
  },
  {
   "cell_type": "code",
   "execution_count": null,
   "metadata": {},
   "outputs": [],
   "source": [
    "# RESOLUÇÃO PROFESSOR"
   ]
  },
  {
   "cell_type": "markdown",
   "metadata": {},
   "source": [
    ">NOTAS RESOLUÇÃO PROFESSOR\n",
    "\n",
    ">- "
   ]
  },
  {
   "cell_type": "markdown",
   "metadata": {},
   "source": [
    "#### Exercicio 55\n",
    "\n",
    "Faça um programa que leia o peso de cinco pessoas. No final, mostre qual foi o maior e o menor pesos lidos."
   ]
  },
  {
   "cell_type": "code",
   "execution_count": null,
   "metadata": {},
   "outputs": [],
   "source": [
    "# RESOLUÇÃO RONAN"
   ]
  },
  {
   "cell_type": "markdown",
   "metadata": {},
   "source": [
    ">*NOTAS DO PROJETO*\n",
    "\n",
    ">-"
   ]
  },
  {
   "cell_type": "code",
   "execution_count": null,
   "metadata": {},
   "outputs": [],
   "source": [
    "# RESOLUÇÃO PROFESSOR"
   ]
  },
  {
   "cell_type": "markdown",
   "metadata": {},
   "source": [
    ">NOTAS RESOLUÇÃO PROFESSOR\n",
    "\n",
    ">- "
   ]
  },
  {
   "cell_type": "markdown",
   "metadata": {},
   "source": [
    "#### Exercicio 56\n",
    "\n",
    "Desenvolva um programa que leia o nome, idade e sexo de 4 pessoas. No final do programa, mostre:\n",
    "- A média de idade do grupo;\n",
    "- Qual é o nome do homem mais velho;\n",
    "- Quantas mulheres tem menos de 20 anos."
   ]
  },
  {
   "cell_type": "code",
   "execution_count": null,
   "metadata": {},
   "outputs": [],
   "source": [
    "# RESOLUÇÃO RONAN"
   ]
  },
  {
   "cell_type": "markdown",
   "metadata": {},
   "source": [
    ">*NOTAS DO PROJETO*\n",
    "\n",
    ">-"
   ]
  },
  {
   "cell_type": "code",
   "execution_count": null,
   "metadata": {},
   "outputs": [],
   "source": [
    "# RESOLUÇÃO PROFESSOR"
   ]
  },
  {
   "cell_type": "markdown",
   "metadata": {},
   "source": [
    ">NOTAS RESOLUÇÃO PROFESSOR\n",
    "\n",
    ">- "
   ]
  }
 ],
 "metadata": {
  "kernelspec": {
   "display_name": "Python 3",
   "language": "python",
   "name": "python3"
  },
  "language_info": {
   "codemirror_mode": {
    "name": "ipython",
    "version": 3
   },
   "file_extension": ".py",
   "mimetype": "text/x-python",
   "name": "python",
   "nbconvert_exporter": "python",
   "pygments_lexer": "ipython3",
   "version": "3.12.0"
  }
 },
 "nbformat": 4,
 "nbformat_minor": 2
}
