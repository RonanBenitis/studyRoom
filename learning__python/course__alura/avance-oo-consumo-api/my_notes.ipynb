{
 "cells": [
  {
   "cell_type": "markdown",
   "metadata": {},
   "source": [
    "# <span style=\"color: #87BBA2\">===   Python: avance na Orientação a Objetos e consuma API   ===</span>\n",
    "\n",
    "## <span style=\"color: #87BBA2\">Herança</span>\n",
    "\n",
    "### CRIANDO A CLASSE ITEMCARDAPIO\n",
    "\n",
    "Criou-se classes novas no diretorio cardapio, o qual conterá todos os elementos de cardápio.\n",
    "\n",
    "Observe que a estrutura de diretórios se refinou com isso, dentro de modelos teremos o diretorio cardápio, organizando a estrutura dos itens.\n",
    "\n",
    "Ao criar as classes, percebemos que há itens que possuem as mesmas informações base, ou seja, todos possuem a necessidade de ter nome e preço. Há uma forma em POO para definirmos, então, elementos base para classes: Herança.\n",
    "\n",
    "Classes filha herdarão os comportamentos de uma classe pai e as classes filhas poderão ter compotarmentos extras além das herdadas."
   ]
  },
  {
   "cell_type": "markdown",
   "metadata": {},
   "source": [
    "### HERANÇA\n",
    "\n",
    "> Não importa o tipo do item, queremos que todos tenham no mínimo nome e preço\n",
    "\n",
    "- Importe a classe pai\n",
    "- Coloque a classe pai entre parenteses na definição da classe filha\n",
    "- chame os atributos da classe pai desejadas com super()\n",
    "\n",
    "#### SUPER()\n",
    "É um objeto especial que permite acessar informações da classe pai.\n",
    "\n",
    "#### FLEXIBILIDADE\n",
    "Ao herdar comportamentos de outra classe, não se limita às definições dela, mas, podemos acrescentar atributos e informações especificas para cada classe.\n",
    "\n",
    "E também escolher qual comportamento herdar. Mas vale a reflexão da necessidade da herança caso for poucos comportamento/atributos e se não for realizar polimorfismo e afins. A herança tem de fazer sentido.\n",
    "\n",
    "> Não é porque você pode fazer algo que você deve fazer."
   ]
  },
  {
   "cell_type": "code",
   "execution_count": null,
   "metadata": {},
   "outputs": [],
   "source": [
    "from modelos.cardapio.item_cardapio import ItemCardapio\n",
    "\n",
    "'''\n",
    "Nossa classe Prato herdará métodos, atributos,\n",
    "de uma outra classe, no caso, ItemCardapio\n",
    "'''\n",
    "class Prato(ItemCardapio):\n",
    "    def __init__(self, nome, preco, descricao):\n",
    "        # Importando construtor da classe pai\n",
    "        super().__init__(nome, preco)\n",
    "        self._descricao = descricao"
   ]
  },
  {
   "cell_type": "markdown",
   "metadata": {},
   "source": [
    "### ACESSANDO OS ITENS DO CARDÁPIO"
   ]
  },
  {
   "cell_type": "code",
   "execution_count": null,
   "metadata": {},
   "outputs": [],
   "source": [
    "# app.py\n",
    "\n",
    "from modelos.restaurante import Restaurante\n",
    "from modelos.cardapio.bebida import Bebida\n",
    "from modelos.cardapio.prato import Prato\n",
    "\n",
    "restaurante_praca = Restaurante('praça', 'Gourmet')\n",
    "bebida_suco = Bebida('Suco de melancia', 5.0, 'grande')\n",
    "prato_paozinho = Prato('Paozinho', 2.0, 'O melhor pão da cidade')\n",
    "\n",
    "def main():\n",
    "    print(bebida_suco)\n",
    "    print(prato_paozinho)\n",
    "\n",
    "if __name__ == '__main__':\n",
    "    main()"
   ]
  },
  {
   "cell_type": "code",
   "execution_count": null,
   "metadata": {},
   "outputs": [],
   "source": [
    "# prato.py\n",
    "\n",
    "from modelos.cardapio.item_cardapio import ItemCardapio\n",
    "\n",
    "'''\n",
    "Nossa classe Prato herdará métodos, atributos,\n",
    "de uma outra classe, no caso, ItemCardapio\n",
    "'''\n",
    "class Prato(ItemCardapio):\n",
    "    def __init__(self, nome, preco, descricao):\n",
    "        super().__init__(nome, preco)\n",
    "        self._descricao = descricao\n",
    "\n",
    "    def __str__(self):\n",
    "        '''\n",
    "        Note como conseguimos puxar o atributo com\n",
    "        o nome definido na classe pai\n",
    "        '''\n",
    "        return self._nome"
   ]
  }
 ],
 "metadata": {
  "language_info": {
   "name": "python"
  }
 },
 "nbformat": 4,
 "nbformat_minor": 2
}
