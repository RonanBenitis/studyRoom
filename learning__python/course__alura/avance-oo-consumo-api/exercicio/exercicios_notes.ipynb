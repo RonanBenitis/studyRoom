{
 "cells": [
  {
   "cell_type": "markdown",
   "metadata": {},
   "source": [
    "# <span style=\"color: #87BBA2\">===   EXERCICIOS   ===</span>\n",
    "\n",
    "## <span style=\"color: #87BBA2\">AULA 01</span>\n",
    "\n",
    "### MÃO NA MASSA: HERANÇA E MODULARIZAÇÃO\n",
    "\n",
    "A herança é um conceito fundamental na programação orientada a objetos (OO) e desempenha um papel crucial no desenvolvimento de software. A importância da herança está relacionada à capacidade de criar novas classes reutilizando ou estendendo o comportamento de classes existentes.\n",
    "\n",
    "Com base no que vimos nessa aula sobre herança, crie uma classe Banco com dois atributos: nome e endereco. Em seguida, derive uma classe chamada Agencia que herda os atributos da classe Banco e inclua um atributo adicional chamado numero. Ambas as classes devem ter apenas o construtor.\n",
    "\n",
    "Agora é sua vez! Pratique herança para aprimorar suas habilidades e assegurar uma aplicação eficiente do paradigma OO com Python."
   ]
  },
  {
   "cell_type": "code",
   "execution_count": null,
   "metadata": {},
   "outputs": [],
   "source": [
    "# banco.py\n",
    "class Banco:\n",
    "    def __init__(self, nome, endereco):\n",
    "        pass\n",
    "\n",
    "# agencia.py\n",
    "from exercicio.modelos.banco import Banco\n",
    "\n",
    "class Agencia(Banco):\n",
    "    def __init__(self, nome, endereco, numero):\n",
    "        super().__init__(nome, endereco)\n",
    "        self._numero = numero"
   ]
  },
  {
   "cell_type": "markdown",
   "metadata": {},
   "source": [
    "### HORA DA PRATICA\n",
    "\n",
    "Hora de aplicar os conceitos aprendidos! Vamos praticar a criação de classes e herança. Pensando nisso, criamos uma lista de atividades (não obrigatórias) focada em prática para melhorar ainda mais sua experiência de aprendizagem. Bora praticar então?\n",
    "\n",
    "Exercícios\n",
    "- Crie uma Classe Pai (Veiculo): Implemente uma classe chamada Veiculo com um construtor que aceita dois parâmetros, marca e modelo. A classe deve ter um atributo protegido _ligado inicializado como False por padrão.\n",
    "- Construa o Método Especial str: Adicione um método especial str à classe Veiculo que retorna uma mensagem formatada com a marca, modelo e o estado de ligado/desligado do veículo.\n",
    "- Crie uma Classe Filha (Carro): Agora, crie uma classe chamada Carro que herda da classe Veiculo. No construtor da classe Carro, inclua um novo atributo chamado portas que indica a quantidade de portas do carro.\n",
    "- Implemente o Método Especial str na Classe Filha: Adicione um método especial str à classe Carro que estenda o método da classe pai (Veiculo) e inclua a informação sobre a quantidade de portas do carro.\n",
    "- Crie uma Classe Filha (Moto): Similarmente, crie uma classe chamada Moto que também herda de Veiculo. Adicione um novo atributo chamado tipo ao construtor, indicando se a moto é esportiva ou casual.\n",
    "- Implemente o Método Especial str na Classe Filha (Moto): Adicione um método especial str à classe Moto que estenda o método da classe pai (Veiculo) e inclua a informação sobre o tipo da moto.\n",
    "- Crie um Arquivo Main (main.py): Crie um arquivo chamado main.py no mesmo diretório que suas classes.\n",
    "- Importe e Instancie Objetos: No arquivo main.py, importe as classes Carro e Moto. Em seguida, crie três instâncias de Carro e Moto com diferentes marcas, modelos, quantidade de portas e tipos.\n",
    "- Exiba as Informações: Para cada instância, imprima no console as informações utilizando o método str."
   ]
  },
  {
   "cell_type": "code",
   "execution_count": null,
   "metadata": {},
   "outputs": [],
   "source": [
    "# Resolução feita no diretório exercicio2"
   ]
  },
  {
   "cell_type": "markdown",
   "metadata": {},
   "source": [
    "## <span style=\"color: #87BBA2\">AULA 02</span>"
   ]
  },
  {
   "cell_type": "markdown",
   "metadata": {},
   "source": [
    "### MÃO NA MASSA\n",
    "\n",
    "Crie uma classe chamada Sobremesa que herda de ItemCardapio, adicione atributos específicos como tipo, tamanho e descricao à classe Sobremesa. Ajuste a inicialização da classe para incluir esses novos atributos, possibilitando a criação de um novo item ao cardápio do restaurante.\n",
    "\n",
    "Atualize o método __str__ conforme necessário para refletir essas mudanças.\n",
    "\n",
    "Certifique-se de que a classe Sobremesa mantenha a herança do método aplicar_desconto de ItemCardapio."
   ]
  },
  {
   "cell_type": "code",
   "execution_count": null,
   "metadata": {},
   "outputs": [],
   "source": [
    "# Realizado no diretório exercicio3"
   ]
  },
  {
   "cell_type": "markdown",
   "metadata": {},
   "source": [
    "### HORA DA PRÁTICA\n",
    "\n",
    "Em uma carreira de desenvolvimento de software, a prática consistente desempenha um papel fundamental na construção de bases sólidas. Pensando nisso, criamos uma lista de atividades (não obrigatórias) focada em prática para melhorar ainda mais sua experiência de aprendizagem.\n",
    "\n",
    "Bora praticar então?\n",
    "\n",
    "Exercícios\n",
    "- Crie uma classe chamada Veiculo com um método abstrato chamado ligar.\n",
    "- No mesmo arquivo, crie um construtor para a classe Veiculo que aceita os parâmetros marca e modelo.\n",
    "- Crie uma nova classe chamada Carro que herda da classe Veiculo.\n",
    "- No construtor da classe Carro, utilize o método super() para chamar o construtor da classe pai e atribua o atributo específico cor à classe filha.\n",
    "- Em um arquivo chamado main.py, importe a classe Carro.\n",
    "- No arquivo main.py, instancie três objetos da classe Carro com diferentes características, como marca, modelo e cor."
   ]
  },
  {
   "cell_type": "code",
   "execution_count": null,
   "metadata": {},
   "outputs": [],
   "source": [
    "# Realizado no diretório exercicio3"
   ]
  }
 ],
 "metadata": {
  "language_info": {
   "name": "python"
  }
 },
 "nbformat": 4,
 "nbformat_minor": 2
}
