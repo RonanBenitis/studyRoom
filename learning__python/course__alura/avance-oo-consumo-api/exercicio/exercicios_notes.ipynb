{
 "cells": [
  {
   "cell_type": "markdown",
   "metadata": {},
   "source": [
    "# <span style=\"color: #87BBA2\">===   EXERCICIOS   ===</span>\n",
    "\n",
    "## <span style=\"color: #87BBA2\">AULA 01</span>\n",
    "\n",
    "### MÃO NA MASSA: HERANÇA E MODULARIZAÇÃO\n",
    "\n",
    "A herança é um conceito fundamental na programação orientada a objetos (OO) e desempenha um papel crucial no desenvolvimento de software. A importância da herança está relacionada à capacidade de criar novas classes reutilizando ou estendendo o comportamento de classes existentes.\n",
    "\n",
    "Com base no que vimos nessa aula sobre herança, crie uma classe Banco com dois atributos: nome e endereco. Em seguida, derive uma classe chamada Agencia que herda os atributos da classe Banco e inclua um atributo adicional chamado numero. Ambas as classes devem ter apenas o construtor.\n",
    "\n",
    "Agora é sua vez! Pratique herança para aprimorar suas habilidades e assegurar uma aplicação eficiente do paradigma OO com Python."
   ]
  },
  {
   "cell_type": "code",
   "execution_count": null,
   "metadata": {},
   "outputs": [],
   "source": [
    "# banco.py\n",
    "class Banco:\n",
    "    def __init__(self, nome, endereco):\n",
    "        pass\n",
    "\n",
    "# agencia.py\n",
    "from exercicio.modelos.banco import Banco\n",
    "\n",
    "class Agencia(Banco):\n",
    "    def __init__(self, nome, endereco, numero):\n",
    "        super().__init__(nome, endereco)\n",
    "        self._numero = numero"
   ]
  }
 ],
 "metadata": {
  "language_info": {
   "name": "python"
  }
 },
 "nbformat": 4,
 "nbformat_minor": 2
}
