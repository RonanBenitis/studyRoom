{
 "cells": [
  {
   "cell_type": "markdown",
   "metadata": {},
   "source": [
    "# <span style=\"color: #87BBA2\">===   Python: crie a sua primeira aplicação   ===</span>\n",
    "\n",
    "## <span style=\"color: #87BBA2\">MANIPULAÇÃO DE STRING</span>\n",
    "\n",
    "### Primeiro programa\n",
    "Dica, atalho `ctrl + N` cria arquivo novo no **VSCode**, mas precisa direcionar onde será salvo.\n",
    "\n",
    "Uma forma de rodar o programa (que não seja no botão do play), é escrever o nome do arquivo e extensão no terminal. Ou seja, no terminal (`CTRL + J`), colocamos o nome `app.py` que é o nome de nossa aplicação."
   ]
  },
  {
   "cell_type": "markdown",
   "metadata": {},
   "source": [
    "### BOAS PRÁTICAS\n",
    "Convenções de nomenclatura:\n",
    "- `snake_case` para variaveis, funções e métodos;\n",
    "- `PascalCase` para classes;\n",
    "- `SCREAMING_SNAKE_CASE` para constante.\n",
    "\n",
    "Aprendemos aqui o `print()` e `input()`."
   ]
  },
  {
   "cell_type": "markdown",
   "metadata": {},
   "source": [
    "### INTERPOLAÇÃO DE STRING\n",
    "\n",
    "Aspas simples ou duplas:\n",
    "- Python aceita os dois tipos de aspas, porém, por boa prática, é ideal manter a utilização de um tipo de aspas para todo o projeto, ou seja, é uma convenção definida pela equipe. Começou com um tipo de aspas? Ideal utilizar apenas ela.\n",
    "\n",
    "Aspas triplas:\n",
    "- Utiliza-se quando queremos que as linhas puladas no texto inserido no código reflita no print, ou seja, se pular linha no texto da string, no terminal (ou onde essa informação for printada) também será pulado sem a necessidade de character scape (`\\n`).\n",
    "\n",
    "Caso queira deixar o texto mais bonitinho para o terminal, podemos consultar no site [fsymbols](https://fsymbols.com/pt/).\n",
    "\n",
    "#### f string\n",
    "Essa é uma forma mais elegante e de melhor legibilidade para intepolar string com demais dados (seja variaveis de outras strings, inteiros, float e por ai vai, é basicamente abrir um ambiente Python dentro da string).\n",
    "```PYTHON\n",
    "opcao_escolhida = input('Escolha uma opção: ')\n",
    "#Sem f string\n",
    "print('Você escolheu a opção', opcao_escolhida)\n",
    "\n",
    "#Com f string\n",
    "print(f'Você escolheu a opção {opcao_escolhida}')\n",
    "```"
   ]
  },
  {
   "cell_type": "code",
   "execution_count": null,
   "metadata": {},
   "outputs": [],
   "source": [
    "# Mais exemplos:\n",
    "pi = 3.14159\n",
    "\n",
    "# Abordagem de f-string\n",
    "print(f'O valor arredondado de pi é: {pi:.2f}')\n",
    "\n",
    "# Abordagem de .format()\n",
    "print('O valor arredondado de pi é: {:.2f}'.format(pi))\n",
    "\n",
    "# Utilizando a função round()\n",
    "print('O valor arredondado de pi é:', round(pi, 2))"
   ]
  },
  {
   "cell_type": "markdown",
   "metadata": {},
   "source": [
    "#### Função sep\n",
    "Ao montar uma string, existe, também a função `sep`, que aplica um valor como separador de uma sequencia de strings internas a um `print()`. Não tenho certeza se funciona em outros casos.\n",
    "\n",
    "```PYTHON\n",
    "print('A','L','U','R','A',sep='\\n')\n",
    "# A\n",
    "# L\n",
    "# U\n",
    "# R\n",
    "# A\n",
    "```"
   ]
  },
  {
   "cell_type": "markdown",
   "metadata": {},
   "source": [
    "### IF ELSE\n",
    "Interessante dizer que recomenda-se resolver decisões e realizar controles de algo especifico em um bloco do que remificar em diversos blocos de decisão:\n",
    "\n",
    "```PYTHON\n",
    "opcao_escolhida = input('Escolha uma opção: ')\n",
    "\n",
    "if opcao_escolhida == 1:\n",
    "    print('Cadastrar restaurante')\n",
    "elif opcao_escolhida == 2:\n",
    "    print('Listar restaurante')\n",
    "elif opcao_escolhida == 3:\n",
    "    print('Ativar restaurante')\n",
    "else:\n",
    "    print('Encerrando o programa')\n",
    "```\n",
    "\n",
    "Ou seja, melhor estruturar com `if / elif e else` do que criar diversas validações com varios `if`s\n",
    "\n",
    "Porém, essa estrutura sempre cairá no `else` pois a `opcao_escolhida` coletará o número inserido como uma string. Para corrigir o código, ou coletamos como int, ou validamos o 1, 2 e 3 como string ('1', '2' e '3')."
   ]
  },
  {
   "cell_type": "markdown",
   "metadata": {},
   "source": [
    "### TIPO INT E BOOL\n",
    "Por padrão, a função `input()` retorna uma string. Caso queiramos ver o tipo do valor, Python tem uma função embutida chamado `type()` que retornará o tipo do valor inserido dentro de seus parenteses.\n",
    "\n",
    "```PYTHON\n",
    "opcao_escolhida = input('Escolha uma opção: ')\n",
    "print(type(opcao_escolhida)) # Retorna str\n",
    "print(type(1)) # Retorna int\n",
    "```\n",
    "\n",
    "Python é uma linguagem **fortemente tipada** porém, é muito dinamica, inclusive possui **dinamismo na declaração de variaveis** o qual o Python identifica qual é o tipo do dado que se está atribuindo a variavel específica.\n",
    "\n",
    "Porém, por ele ser fortemente tipado, Python não retornará `True` na comparação de variaveis com tipos diferentes.\n",
    "\n",
    "#### CASTING\n",
    "Para resolver o problema anterior, faremos, então, o casting do valor coletado para inteiro (a outra solução soava mais como uma gambiarra). Para realizar o casting, podemos aplicar no input ou transformar a variável e reatribuí-la:\n",
    "```PYTHON\n",
    "# Casting direto no input\n",
    "opcao_escolhida = int(input('Escolha uma opção: '))\n",
    "\n",
    "# Casting na variavel e reatribuição\n",
    "opcao_escolhida = input('Escolha uma opção: ')\n",
    "opcao_escolhida = int(opcao_escolhida)\n",
    "```\n"
   ]
  },
  {
   "cell_type": "markdown",
   "metadata": {},
   "source": [
    "### FUNÇÔES E IMPORT\n",
    "Isolando determinado comportamento em uma sequencia de código, ou seja, é um bloco de código que realizará uma determinada ação.\n",
    "\n",
    "Para limpar o nosso terminal, importamos uma biblioteca padrão do Python chamada `os`, o qual possui uma função chamada `.sytem()`. O `.system()` insere um comando em nosso terminal, sendo o comando a string que colocarmos dentro dos parenteses.\n",
    "- Biblioteca padrão significa que ela é instalada juntamente com o pacote Python, porém, só poderemos utiliza-la mediante importação em nosso código. Para isso, utilizamos o `import os`, sendo `os` o nome da biblioteca e acessamos suas funções e atributos com a utilização do `.`. Ou seja, para acessar a função `system` da biblioteca `os` usamos `os.system()`."
   ]
  },
  {
   "cell_type": "markdown",
   "metadata": {},
   "source": [
    "### APROFUNDANDO EM FUNÇÕES\n",
    "\n",
    "Atalho interessante no **VSCode**:\n",
    "- `CTRL + [` para identar a direita\n",
    "- `CTRL + ´` para tabular a esquerda\n",
    "\n",
    "#### MAIN\n",
    "Quando criamos um arquivo `.py` temos duas opções:\n",
    "- Possibilitá-lo para ser importado (padrão)\n",
    "- Explicitamente defini-lo como principal da minha aplicação (main)\n",
    "\n",
    "Quando pedimos para que um programa Python seja executado, o interpretador ele cria uma variável chamada `name`. Se o `name` for igual a `main` (de principal, em ingles), significa que esse código não vai ser importado por outros scripts de código Python e ele será o programa principal.\n",
    "\n",
    "Para realizarmos essa ação, fazemos:\n",
    "```PYTHON\n",
    "if __name__ == '__main__':\n",
    "    main()\n",
    "```\n",
    "\n",
    "Em Python, o bloco de código protegido pela condição `if __name__ == '__main__':` é executado apenas se o script for executado diretamente, e não quando ele é importado como um módulo em outro script. Aqui está um exemplo completo de como você pode definir e chamar a função main em um arquivo Python:\n",
    "\n",
    "Em seguida, precisamos definir o que rodará no nosso `main()` através de `def main():`.\n",
    "\n",
    "Os underlines nas variaveis significa que é uma variável de sistema."
   ]
  }
 ],
 "metadata": {
  "language_info": {
   "name": "python"
  }
 },
 "nbformat": 4,
 "nbformat_minor": 2
}
