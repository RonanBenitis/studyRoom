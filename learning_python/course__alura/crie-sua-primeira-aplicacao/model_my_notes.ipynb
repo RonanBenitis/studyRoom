{
 "cells": [
  {
   "cell_type": "markdown",
   "metadata": {},
   "source": [
    "# <span style=\"color: #87BBA2\">===   Python: crie a sua primeira aplicação   ===</span>\n",
    "\n",
    "## <span style=\"color: #87BBA2\">MANIPULAÇÃO DE STRING</span>\n",
    "\n",
    "### Primeiro programa\n",
    "Dica, atalho `ctrl + N` cria arquivo novo no **VSCode**, mas precisa direcionar onde será salvo.\n",
    "\n",
    "Uma forma de rodar o programa (que não seja no botão do play), é escrever o nome do arquivo e extensão no terminal. Ou seja, no terminal (`CTRL + J`), colocamos o nome `app.py` que é o nome de nossa aplicação."
   ]
  },
  {
   "cell_type": "markdown",
   "metadata": {},
   "source": [
    "### BOAS PRÁTICAS\n",
    "Convenções de nomenclatura:\n",
    "- `snake_case` para variaveis, funções e métodos;\n",
    "- `PascalCase` para classes;\n",
    "- `SCREAMING_SNAKE_CASE` para constante.\n",
    "\n",
    "Aprendemos aqui o `print()` e `input()`."
   ]
  },
  {
   "cell_type": "markdown",
   "metadata": {},
   "source": [
    "### INTERPOLAÇÃO DE STRING\n",
    "\n",
    "Aspas simples ou duplas:\n",
    "- Python aceita os dois tipos de aspas, porém, por boa prática, é ideal manter a utilização de um tipo de aspas para todo o projeto, ou seja, é uma convenção definida pela equipe. Começou com um tipo de aspas? Ideal utilizar apenas ela.\n",
    "\n",
    "Aspas triplas:\n",
    "- Utiliza-se quando queremos que as linhas puladas no texto inserido no código reflita no print, ou seja, se pular linha no texto da string, no terminal (ou onde essa informação for printada) também será pulado sem a necessidade de character scape (`\\n`).\n",
    "\n",
    "Caso queira deixar o texto mais bonitinho para o terminal, podemos consultar no site [fsymbols](https://fsymbols.com/pt/).\n",
    "\n",
    "#### f string\n",
    "Essa é uma forma mais elegante e de melhor legibilidade para intepolar string com demais dados (seja variaveis de outras strings, inteiros, float e por ai vai, é basicamente abrir um ambiente Python dentro da string).\n",
    "```PYTHON\n",
    "opcao_escolhida = input('Escolha uma opção: ')\n",
    "#Sem f string\n",
    "print('Você escolheu a opção', opcao_escolhida)\n",
    "\n",
    "#Com f string\n",
    "print(f'Você escolheu a opção {opcao_escolhida}')\n",
    "```"
   ]
  },
  {
   "cell_type": "code",
   "execution_count": null,
   "metadata": {},
   "outputs": [],
   "source": [
    "# Mais exemplos:\n",
    "pi = 3.14159\n",
    "\n",
    "# Abordagem de f-string\n",
    "print(f'O valor arredondado de pi é: {pi:.2f}')\n",
    "\n",
    "# Abordagem de .format()\n",
    "print('O valor arredondado de pi é: {:.2f}'.format(pi))\n",
    "\n",
    "# Utilizando a função round()\n",
    "print('O valor arredondado de pi é:', round(pi, 2))"
   ]
  },
  {
   "cell_type": "markdown",
   "metadata": {},
   "source": [
    "#### Função sep\n",
    "Ao montar uma string, existe, também a função `sep`, que aplica um valor como separador de uma sequencia de strings internas a um `print()`. Não tenho certeza se funciona em outros casos.\n",
    "\n",
    "```PYTHON\n",
    "print('A','L','U','R','A',sep='\\n')\n",
    "# A\n",
    "# L\n",
    "# U\n",
    "# R\n",
    "# A\n",
    "```"
   ]
  },
  {
   "cell_type": "markdown",
   "metadata": {},
   "source": [
    "### IF ELSE\n",
    "Interessante dizer que recomenda-se resolver decisões e realizar controles de algo especifico em um bloco do que remificar em diversos blocos de decisão:\n",
    "\n",
    "```PYTHON\n",
    "opcao_escolhida = input('Escolha uma opção: ')\n",
    "\n",
    "if opcao_escolhida == 1:\n",
    "    print('Cadastrar restaurante')\n",
    "elif opcao_escolhida == 2:\n",
    "    print('Listar restaurante')\n",
    "elif opcao_escolhida == 3:\n",
    "    print('Ativar restaurante')\n",
    "else:\n",
    "    print('Encerrando o programa')\n",
    "```\n",
    "\n",
    "Ou seja, melhor estruturar com `if / elif e else` do que criar diversas validações com varios `if`s\n",
    "\n",
    "Porém, essa estrutura sempre cairá no `else` pois a `opcao_escolhida` coletará o número inserido como uma string. Para corrigir o código, ou coletamos como int, ou validamos o 1, 2 e 3 como string ('1', '2' e '3')."
   ]
  },
  {
   "cell_type": "markdown",
   "metadata": {},
   "source": [
    "### TIPO INT E BOOL\n",
    "Por padrão, a função `input()` retorna uma string. Caso queiramos ver o tipo do valor, Python tem uma função embutida chamado `type()` que retornará o tipo do valor inserido dentro de seus parenteses.\n",
    "\n",
    "```PYTHON\n",
    "opcao_escolhida = input('Escolha uma opção: ')\n",
    "print(type(opcao_escolhida)) # Retorna str\n",
    "print(type(1)) # Retorna int\n",
    "```\n",
    "\n",
    "Python é uma linguagem **fortemente tipada** porém, é muito dinamica, inclusive possui **dinamismo na declaração de variaveis** o qual o Python identifica qual é o tipo do dado que se está atribuindo a variavel específica.\n",
    "\n",
    "Porém, por ele ser fortemente tipado, Python não retornará `True` na comparação de variaveis com tipos diferentes.\n",
    "\n",
    "#### CASTING\n",
    "Para resolver o problema anterior, faremos, então, o casting do valor coletado para inteiro (a outra solução soava mais como uma gambiarra). Para realizar o casting, podemos aplicar no input ou transformar a variável e reatribuí-la:\n",
    "```PYTHON\n",
    "# Casting direto no input\n",
    "opcao_escolhida = int(input('Escolha uma opção: '))\n",
    "\n",
    "# Casting na variavel e reatribuição\n",
    "opcao_escolhida = input('Escolha uma opção: ')\n",
    "opcao_escolhida = int(opcao_escolhida)\n",
    "```\n"
   ]
  },
  {
   "cell_type": "markdown",
   "metadata": {},
   "source": [
    "### FUNÇÕES E IMPORT\n",
    "Isolando determinado comportamento em uma sequencia de código, ou seja, é um bloco de código que realizará uma determinada ação.\n",
    "\n",
    "Para limpar o nosso terminal, importamos uma biblioteca padrão do Python chamada `os`, o qual possui uma função chamada `.sytem()`. O `.system()` insere um comando em nosso terminal, sendo o comando a string que colocarmos dentro dos parenteses.\n",
    "- Biblioteca padrão significa que ela é instalada juntamente com o pacote Python, porém, só poderemos utiliza-la mediante importação em nosso código. Para isso, utilizamos o `import os`, sendo `os` o nome da biblioteca e acessamos suas funções e atributos com a utilização do `.`. Ou seja, para acessar a função `system` da biblioteca `os` usamos `os.system()`."
   ]
  },
  {
   "cell_type": "markdown",
   "metadata": {},
   "source": [
    "### APROFUNDANDO EM FUNÇÕES\n",
    "\n",
    "Atalho interessante no **VSCode**:\n",
    "- `CTRL + [` para identar a direita\n",
    "- `CTRL + ´` para tabular a esquerda\n",
    "\n",
    "#### MAIN\n",
    "Quando criamos um arquivo `.py` temos duas opções:\n",
    "- Possibilitá-lo para ser importado (padrão)\n",
    "- Explicitamente defini-lo como principal da minha aplicação (main)\n",
    "\n",
    "Quando pedimos para que um programa Python seja executado, o interpretador ele cria uma variável chamada `name`. Se o `name` for igual a `main` (de principal, em ingles), significa que esse código não vai ser importado por outros scripts de código Python e ele será o programa principal.\n",
    "\n",
    "Para realizarmos essa ação, fazemos:\n",
    "```PYTHON\n",
    "if __name__ == '__main__':\n",
    "    main()\n",
    "```\n",
    "\n",
    "Em Python, o bloco de código protegido pela condição `if __name__ == '__main__':` é executado apenas se o script for executado diretamente, e não quando ele é importado como um módulo em outro script. Aqui está um exemplo completo de como você pode definir e chamar a função main em um arquivo Python:\n",
    "\n",
    "Em seguida, precisamos definir o que rodará no nosso `main()` através de `def main():`.\n",
    "\n",
    "Os underlines nas variaveis significa que é uma variável de sistema."
   ]
  },
  {
   "cell_type": "markdown",
   "metadata": {},
   "source": [
    "## <span style=\"color: #87BBA2\">LISTA, LAÇOS E EXCEÇÕES</span>\n",
    "\n",
    "### TRY EXCEPT\n",
    "Dica: Nunca confie fielmente no usuário, sempre crie validações para proteger seu código.\n",
    "\n",
    "Aqui usamos o TRY EXCEPT buscar executar um trecho de código e, caso ele dê erro, executar outro trecho de código em substituição. Isso foi util para tratarmos o erro que estava estourando quando alguém inseriria uma string onde estavamos realizando o casting para int, resultando em um erro de impossibilidade de transformar a string em int. Agora, caso dê erro, redirecionamos para a função opcao_invalida().\n",
    "\n",
    "#### Instancia e acessando o erro\n",
    "Para instanciar e acessar o erro, podemos utilizar o `try except tipo_do_erro as nome_da_instancia`. Com isso, podemos printar a instancia do erro que ocorreu, como `print(nome_da_instancia)` dentro do bloco de exceção."
   ]
  },
  {
   "cell_type": "markdown",
   "metadata": {},
   "source": [
    "### LISTAS\n",
    "Agora, iniciaremos o desenvolvimento da funcionalidade das opções do menu.\n",
    "\n",
    "Dica: Utilizamos o comando `pass` após um bloco de execução (como uma função) para retirarmos o aviso de erro, pois, quando esse bloco for executado, ele passará para as demais funcionalidades e executando nada a seguir. Isso evita que mensagem de erros aconteçam quando estamos desenvolvendo alguma funcionalidade.\n",
    "\n",
    "#### Pontos importantes da aula\n",
    "- Método de item em lista = .append\n",
    "- Se queremos um valor string, casting é desnecerário quando usamos input(). Por padrão, retorna string.\n",
    "- Utilizando de f-string"
   ]
  },
  {
   "cell_type": "markdown",
   "metadata": {},
   "source": [
    "### TUPLA X LISTA\n",
    "- [Documentação oficial Python sobre tuplas](https://docs.python.org/pt-br/3/tutorial/datastructures.html#tuples-and-sequences)\n",
    "- [Artigo Alura sobre Tupla](https://www.alura.com.br/artigos/conhecendo-as-tuplas-no-python)\n",
    "- [Explicação no curso da Alura](https://cursos.alura.com.br/course/python-crie-sua-primeira-aplicacao/task/151390)"
   ]
  },
  {
   "cell_type": "markdown",
   "metadata": {},
   "source": [
    "### REFATORANDO CÓDIGO\n",
    "Quando estamos repetindo código ou repetindo as mesmas estruturas (com pequenas mudanças), é onde devemos refatorar o código para garantir uma boa manutenabilidade.\n",
    "\n",
    "No nosso código, refatoramos as repetições que acontecia nele em duas funções: voltar_ao_menu_principal() e o exibir_subtitulo(texto)."
   ]
  },
  {
   "cell_type": "markdown",
   "metadata": {},
   "source": [
    "## <span style=\"color: #87BBA2\">DICIONARIOS</span>\n",
    "\n",
    "### DICIONARIOS\n",
    "Trata-se de uma estrutura de chave : valor, onde quando pedimos a chave, temos como retorno o valor.\n",
    "\n",
    "A estrutura que conheço é:"
   ]
  },
  {
   "cell_type": "code",
   "execution_count": null,
   "metadata": {},
   "outputs": [],
   "source": [
    "# Um dicionario\n",
    "dicionario = {'nome':'a',\n",
    "              'categoria':'1',\n",
    "              'ativo':False}"
   ]
  },
  {
   "cell_type": "markdown",
   "metadata": {},
   "source": [
    "Mas, nesta aula, foi-nos apresentado a seguinte estrutura:"
   ]
  },
  {
   "cell_type": "code",
   "execution_count": null,
   "metadata": {},
   "outputs": [],
   "source": [
    "# Lista de dicionarios\n",
    "restaurantes = [\n",
    "                {'nome':'a', 'categoria':'1', 'ativo':False},\n",
    "                {'nome':'b', 'categoria':'2', 'ativo':True},\n",
    "                {'nome':'c', 'categoria':'3', 'ativo':False},\n",
    "                ]\n",
    "\n",
    "for restaurante in restaurantes:\n",
    "    print(restaurante['nome']) # retornará \"a b c\", que são os nome dos restaurantes"
   ]
  },
  {
   "cell_type": "markdown",
   "metadata": {},
   "source": [
    "Faz sentido! Porque quando estamos iterando por uma lista, estamos acessando os valores individuais, cada valor um por um. Logo, \"restaurante\" é a abstração do elemento interno atual da lista e \"restaurante['nome']\" é como acessamos o dicionario, onde esse elemento é um dicionario.\n",
    "\n",
    "#### Sintaxe de acesso a dicionario\n",
    "dicionario['chave']. Lembre-se, é a CHAVE. Se passar o valor retornar-a erro de chave inexistente."
   ]
  },
  {
   "cell_type": "markdown",
   "metadata": {},
   "source": [
    "### ATUALIZANDO O CADASTRO\n",
    "\n",
    "Para acrescentar um novo dicionario a lista, usamos o `.append` de um dicionario que, neste caso, criamos com o `f-string`, pois estamos solicitando o input do usuário. Lembre-se que a estrutura, para ser entendida como um dicionario, precisa ter `{}`."
   ]
  },
  {
   "cell_type": "code",
   "execution_count": null,
   "metadata": {},
   "outputs": [],
   "source": [
    "nome_do_restaurante = input('Digite o nome do restaurante que deseja cadastrar')\n",
    "categoria = input(f'Digite o nome da categoria do restaurante {nome_do_restaurante}: ')\n",
    "dados_do_restaurante = {'nome':nome_do_restaurante, 'categoria':categoria, 'ativo':False} \n",
    "restaurantes.append(dados_do_restaurante)"
   ]
  },
  {
   "cell_type": "markdown",
   "metadata": {},
   "source": [
    "Note que pedimos os dados, montamos o dicionario na variavel `dados_do_restaurante` e a colocamos na lista com o `.append`."
   ]
  },
  {
   "cell_type": "markdown",
   "metadata": {},
   "source": [
    "### ATIVANDO RESTAURANTES\n",
    "\n",
    "Para realizar a função de ativação dos restaurantes, utilizamos a **inversão com not** e também `ternário`.\n",
    "\n",
    "Note que não utilizei a validação para caso não encontre o restaurante pois caso a validação de se existe o restaurante na lista for verdadeira, a função `voltar_ao_menu_principal()` já nos tira da função. Porém, como camada extra caso alteremos a função de voltar ao menu, por redundancia coloquei o comando `break` no final do bloco."
   ]
  },
  {
   "cell_type": "code",
   "execution_count": null,
   "metadata": {},
   "outputs": [],
   "source": [
    "def alternar_estado_restaurante():\n",
    "    exibir_subtitulo('Alternando estado do restaurante')\n",
    "    nome_restaurante = input('Digite o nome do restaurante que deseja alternar o estado: ')\n",
    "\n",
    "    for restaurante in restaurantes:\n",
    "        if nome_restaurante == restaurante['nome']:\n",
    "            # Palavra reservada not (inversão)\n",
    "            restaurante['ativo'] = not restaurante['ativo']\n",
    "            # Utilizando ternário\n",
    "            print(f'O restaurante {nome_restaurante} foi ativado com sucesso' if restaurante['ativo'] else f'O restaurante foi destivado com sucesso')\n",
    "            voltar_ao_menu_principal()\n",
    "\n",
    "    print(f'O restaurante {nome_restaurante} não foi encontrado')\n",
    "    voltar_ao_menu_principal()"
   ]
  },
  {
   "cell_type": "markdown",
   "metadata": {},
   "source": [
    "### MELHORANDO A VISUALIZAÇÂO\n",
    "\n",
    "Nesta aula usamos:\n",
    "- Ternário na variável `ativo` em `listar_restaurantes()`\n",
    "- Forma para multiplicar strings e estilizando o terminal\n",
    "  - No caso abaixo, criaremos linhas que se ajustam ao texto, aplicado no `exibir_subtitulo(texto)`\n",
    "```PYTHON\n",
    "linha = '*' * (len(texto))\n",
    "print(linha)\n",
    "print(texto)\n",
    "print(linha)\n",
    "```\n",
    "- Método `.ljust(num_carac)`: Usamos no `listar_restaurante()` para criar um espaço de minimo de 20 caracteres justificados à esquerda, ou seja, se a palavra tiver 5 caractereste, terão 15 caracteres vazios. Isso deixou o texto mais uniforme.\n",
    "  - Usamos pra criar os titulos dessa \"tabela\" que criamos.\n",
    "\n",
    "#### Métodos para atualizar um valor de dicionario\n",
    "- `nome_dicionario['chave'] = valor_desejado`\n",
    "- `nome_dicionario.update({'chave': valor_desejado})`\n"
   ]
  },
  {
   "cell_type": "markdown",
   "metadata": {},
   "source": [
    "#### EXERCICIOS"
   ]
  },
  {
   "cell_type": "markdown",
   "metadata": {},
   "source": [
    "1 - Crie um dicionário representando informações sobre uma pessoa, como nome, idade e cidade."
   ]
  },
  {
   "cell_type": "code",
   "execution_count": null,
   "metadata": {},
   "outputs": [],
   "source": [
    "pessoa = {'nome': 'Joaozin', 'idade': 32, 'cidade': 'Mogi das Cruzes'}\n",
    "\n",
    "print(pessoa)"
   ]
  },
  {
   "cell_type": "markdown",
   "metadata": {},
   "source": [
    "2 - Utilizando o dicionário criado no item 1:\n",
    "\n",
    "- Modifique o valor de um dos itens no dicionário (por exemplo, atualize a idade da pessoa);\n",
    "- Adicione um campo de profissão para essa pessoa;\n",
    "- Remova um item do dicionário."
   ]
  },
  {
   "cell_type": "code",
   "execution_count": null,
   "metadata": {},
   "outputs": [],
   "source": [
    "pessoa = {'nome': 'Joaozin', 'idade': 32, 'cidade': 'Mogi das Cruzes'}\n",
    "\n",
    "pessoa['nome'] = 'Fulaninho'\n",
    "pessoa['profissao'] = 'Programador'\n",
    "# Remoção de elemento\n",
    "del pessoa['cidade']\n",
    "\n",
    "print(pessoa)"
   ]
  },
  {
   "cell_type": "markdown",
   "metadata": {},
   "source": [
    "3 - Crie um dicionário utilizando para representar números e seus quadrados de 1 a 5."
   ]
  },
  {
   "cell_type": "code",
   "execution_count": null,
   "metadata": {},
   "outputs": [],
   "source": [
    "from math import pow\n",
    "\n",
    "quadrados = {num: int(pow(num, 2)) for num in range(1, 6)}\n",
    "print(quadrados)"
   ]
  },
  {
   "cell_type": "markdown",
   "metadata": {},
   "source": [
    "4 - Crie um dicionário e verifique se uma chave específica existe dentro desse dicionário."
   ]
  },
  {
   "cell_type": "code",
   "execution_count": null,
   "metadata": {},
   "outputs": [],
   "source": [
    "pessoa = {'nome': 'Fulaninho', 'idade': 32}\n",
    "chave = 'nome'\n",
    "\n",
    "if chave in pessoa:\n",
    "    print(f'A chave \"{chave}\" existe no dicionário')\n",
    "else:\n",
    "    print(f'A chave \"{chave}\" não existe no dicionário.')"
   ]
  },
  {
   "cell_type": "markdown",
   "metadata": {},
   "source": [
    "5 - Escreva um código que conte a frequência de cada palavra em uma frase utilizando um dicionário."
   ]
  },
  {
   "cell_type": "code",
   "execution_count": 26,
   "metadata": {},
   "outputs": [
    {
     "name": "stdout",
     "output_type": "stream",
     "text": [
      "{'pula': 3, 'boi': 2, 'cavalo': 2, 'e': 1}\n"
     ]
    }
   ],
   "source": [
    "frase = 'Pula boi pula cavalo pula cavalo e boi'\n",
    "frase_split = frase.split(' ')\n",
    "frequencia_palavras = {}\n",
    "\n",
    "for palavra in frase_split:\n",
    "    palavra = palavra.lower()\n",
    "    frequencia_palavras[palavra] = frequencia_palavras.get(palavra, 0) + 1\n",
    "\n",
    "print(frequencia_palavras)"
   ]
  },
  {
   "cell_type": "code",
   "execution_count": null,
   "metadata": {},
   "outputs": [],
   "source": [
    "# Resolução Alura\n",
    "frase = \"Python se tornou uma das linguagens de programação mais populares do mundo nos últimos anos.\"\n",
    "contagem_palavras = {}\n",
    "palavras = frase.split()\n",
    "\n",
    "for palavra in palavras:\n",
    "    contagem_palavras[palavra] = contagem_palavras.get(palavra, 0) + 1\n",
    "print(contagem_palavras)"
   ]
  },
  {
   "cell_type": "markdown",
   "metadata": {},
   "source": [
    "## <span style=\"color: #87BBA2\">CONSOLIDANDO OS CONHECIMENTOS</span>\n",
    "\n",
    "### AFRO PYTHON - APRESENTAÇÃO\n",
    "\n",
    "Abordar-se-á sobre `docstring`, que se trata de uma ferramenta para colocar dentro das funções para torná-las um pouco mais descritivas.\n",
    "\n",
    "Para realizar uma `docstring`, insira a descrição da função em questão entre três aspas simples ou duplas."
   ]
  },
  {
   "cell_type": "code",
   "execution_count": 27,
   "metadata": {},
   "outputs": [],
   "source": [
    "def cadastrar_novo_reastaurante():\n",
    "    '''Essa função é responsável por cadastrar um novo restaurante'''"
   ]
  },
  {
   "cell_type": "markdown",
   "metadata": {},
   "source": [
    "### AFRO PYTHON - RESOLVENDO\n",
    "\n",
    "Elaborando mais a docstring, podemos descrever os inputs e os outputs, por exemplo.\n",
    "\n",
    "O instrutor informou que foi bastante util em um momento o qual ele precisou verificar o que uma biblioteca em questão fazia, e por ela ter uma docstring bem elaborada, seu entendimento foi muito maior.\n",
    "\n",
    "#### Quando fazer uma docstring?\n",
    "Você não precisa escrever uma docstring sempre que for criar uma função, mas, é ideal utilizar essa ferramenta quando você sabe que mais pessoas utilizarão seu código (ou até mesmo você do futuro) e alguma funcionalidade pode ser melhor entendida e agilizar o processo de entendimento quando tiver explicações mais elaboradas"
   ]
  },
  {
   "cell_type": "code",
   "execution_count": null,
   "metadata": {},
   "outputs": [],
   "source": [
    "def cadastrar_novo_reastaurante():\n",
    "    '''Essa função é responsável por cadastrar um novo restaurante\n",
    "    \n",
    "    Inputs:\n",
    "    - Nome do restaurante\n",
    "    - Categoria\n",
    "\n",
    "    Outputs:\n",
    "    - Adiciona um novo restaurante a lista de restaurantes\n",
    "        \n",
    "    '''"
   ]
  }
 ],
 "metadata": {
  "kernelspec": {
   "display_name": "Python 3",
   "language": "python",
   "name": "python3"
  },
  "language_info": {
   "codemirror_mode": {
    "name": "ipython",
    "version": 3
   },
   "file_extension": ".py",
   "mimetype": "text/x-python",
   "name": "python",
   "nbconvert_exporter": "python",
   "pygments_lexer": "ipython3",
   "version": "undefined.undefined.undefined"
  }
 },
 "nbformat": 4,
 "nbformat_minor": 2
}
