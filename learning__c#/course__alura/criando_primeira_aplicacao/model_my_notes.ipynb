{
 "cells": [
  {
   "cell_type": "markdown",
   "metadata": {},
   "source": [
    "# <span style=\"color: #87BBA2\">===   C#: criando sua primeira aplicação   ===</span>\n",
    "\n",
    "## <span style=\"color: #87BBA2\">CRIANDO O PRIMEIRO PROGRAMA</span>\n",
    "\n",
    "### PRIMEIRO PROGRAMA\n",
    "Escreveremos nosso código utilizando o Visual Studio.\n",
    "\n",
    "#### Caracteristicas do C# (CS)\n",
    "- Fortemente tipada\n",
    "- Para escrita de string, utiliza-se sempre **aspas duplas** `\"string\"`\n",
    "  - Para aspas simples, o funcionamento é diferente. Creio que estariamos declarando um literal.\n",
    "- A utilização do `;` é obrigatória para indicar fim de comando de linha;\n",
    "- Declaração de varíavel com comentário:\n",
    "  - Variável: definimos o tipo, escrevemos o nome da variável e em seguida atribuimos o valor.\n",
    "```C#\n",
    "// Screen Sound\n",
    "string mensagemBoasVindas = \"Boas vindas ao Screen Sound\";\n",
    "```\n",
    "\n",
    "#### Convenção C# (CS)\n",
    "- camelCase para o escrita de **variáveis**;\n",
    "\n",
    "#### Indicador visual\n",
    "- Tarja vermelha: Erro no código;\n",
    "- Tarja verde: variável declarada, espaço de memória reservado mas nunca utilizado."
   ]
  },
  {
   "cell_type": "markdown",
   "metadata": {},
   "source": []
  }
 ],
 "metadata": {
  "language_info": {
   "name": "python"
  }
 },
 "nbformat": 4,
 "nbformat_minor": 2
}
