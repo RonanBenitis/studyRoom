{
 "cells": [
  {
   "cell_type": "markdown",
   "metadata": {},
   "source": [
    "# <span style=\"color: #87BBA2\">===   Lógica de programação: mergulhe em programação com JavaScript   ===</span>\n",
    "\n",
    "## <span style=\"color: #87BBA2\"> 01. Iniciando com JavaScript</span>\n",
    "\n",
    "### CARREGANDO O PROJETO BASE\n",
    "#### Atalhos VSCode\n",
    "- `CTRL + B`: Abre e fecha aba do explorador de arquivos do VSCode.\n",
    "\n",
    "#### Boas praticas JS\n",
    "- O JavaScript, para uma string, aceita tanto aspas simples quanto duplas. Pode-se usar as duas, mas, o ideal é sempre usar no mesmo projeto àquela que inicialmente for usada. Se começou com aspas simples, sempre use aspas simples para este projeto.\n",
    "- O JavaScript interpreta seu código sem ponto e virgula, não há problemas nisso, mas é uma boa pratica sempre utilizar pois isso garante que não haverá problemas de compatibilidade com outras linguagens."
   ]
  },
  {
   "cell_type": "markdown",
   "metadata": {},
   "source": [
    "### EXIBINDO MENSAGENS NA TELA\n",
    "\n",
    "#### Nomes de variaveis\n",
    "- Utilizar camelCase;\n",
    "- Idealmente ter nomes que façam sentido;\n",
    "\n",
    "#### Código produzido em aula"
   ]
  },
  {
   "cell_type": "code",
   "execution_count": null,
   "metadata": {
    "vscode": {
     "languageId": "javascript"
    }
   },
   "outputs": [],
   "source": [
    "alert('Boas vindas ao jogo do número secreto');\n",
    "// Trate variaveis como o envelope que armazena o número secreto\n",
    "let numeroSecreto = 29;\n",
    "// Prompt é emite um alerta ao usuário e coleta sua resposta\n",
    "prompt('Escolha um número entre 1 a 30')"
   ]
  },
  {
   "cell_type": "markdown",
   "metadata": {},
   "source": [
    "### CONCATENAÇÃO\n",
    "\n",
    "#### Templeta String\n",
    "Template String é a concatenação realizada através da inserção de dado entre crases e, para abrir um \"ambiente JavaScript\" dentro da string, inserir entre a estrutura ${}, exemplo:\n",
    "```JAVASCRIPT\n",
    "let numeroExemplo = 10\n",
    "let exemplo = alert(`Isso é um exemplo de Template String e o número é: ${numeroExemplo}`); // retorna o texto e o numero 10\n",
    "```\n",
    "\n",
    "#### Código produzido em aula"
   ]
  },
  {
   "cell_type": "code",
   "execution_count": null,
   "metadata": {
    "vscode": {
     "languageId": "javascript"
    }
   },
   "outputs": [],
   "source": [
    "alert('Boas vindas ao jogo do número secreto');\n",
    "// Trate variaveis como o envelope que armazena o número secreto\n",
    "let numeroSecreto = 29;\n",
    "// Imprimir informações no lugar \"secreto\" dos devs\n",
    "console.log(`Número secreto: ${numeroSecreto}`);\n",
    "// Prompt é emite um alerta ao usuário e coleta sua resposta\n",
    "// Agora, armazenaremos seu retorno na variavel \"chute\"\n",
    "let chute = prompt('Escolha um número entre 1 a 30');\n",
    "\n",
    "if (chute == numeroSecreto) {\n",
    "    // Imprimir informações no lugar \"secreto\" dos devs\n",
    "    alert(`Isso aí! Você descobriu o número secreto! (${numeroSecreto})`);\n",
    "} else {\n",
    "    alert('Você errou :(');\n",
    "}"
   ]
  },
  {
   "cell_type": "markdown",
   "metadata": {},
   "source": [
    "## BOAS PRATICAS DE PROGRAMAÇÂO\n",
    "\n",
    "### Operador ternário\n",
    "Operador para realizar uma operação condicional de forma concisa. A sintaxe é:\n",
    "- Condição\n",
    "- Símbolo `?`\n",
    "- Valor se verdadeiro\n",
    "- Símbolo `:`\n",
    "- Valor se falso\n",
    "\n",
    "Ou seja, se atribuirmos a uma variável a seguinte estrutura:\n",
    "```JAVASCRIPT\n",
    "let palavraTentativa = tentativas > 1 ? 'tentativas' : 'tentativa';\n",
    "```\n",
    "\n",
    "Estamos dizendo: A variavel tentativas é maior do que 1? \n",
    "- Sim? Armazene na variável palavraTentativas a string 'tentativas';\n",
    "- Não? Armazene na variável palavraTentativas a string 'tentativa';\n",
    "\n",
    "Realizando operador ternário, conseguimos evitar a utilização de muitos if e elses para pequenas alterações e deixamos o código mais legível."
   ]
  },
  {
   "cell_type": "markdown",
   "metadata": {},
   "source": [
    "#### Código antes de Operador Ternário"
   ]
  },
  {
   "cell_type": "code",
   "execution_count": null,
   "metadata": {
    "vscode": {
     "languageId": "javascript"
    }
   },
   "outputs": [],
   "source": [
    "alert('Boas vindas ao jogo do número secreto');\n",
    "// Trate variaveis como o envelope que armazena o número secreto\n",
    "let numeroSecreto = 29;\n",
    "// Imprimir informações no lugar \"secreto\" dos devs\n",
    "console.log(`Número secreto: ${numeroSecreto}`);\n",
    "// Prompt é emite um alerta ao usuário e coleta sua resposta\n",
    "// Agora, armazenaremos seu retorno na variavel \"chute\"\n",
    "let chute;\n",
    "let tentativas = 1;\n",
    "\n",
    "while (chute != numeroSecreto) {\n",
    "    chute = prompt('Escolha um número entre 1 a 30');\n",
    "    if (chute == numeroSecreto) {\n",
    "        break;\n",
    "    } else {\n",
    "        if (chute < numeroSecreto) {\n",
    "            alert(`O número é maior do que ${chute}`);\n",
    "        } else {\n",
    "            alert(`O número é menor do que ${chute}`);\n",
    "        }\n",
    "        tentativas++;\n",
    "    }\n",
    "}\n",
    "\n",
    "if (tentativas == 1) {\n",
    "    alert(`Isso aí! Você descobriu o número secreto! (${numeroSecreto}) com ${tentativas} tentativa`);\n",
    "} else {\n",
    "    alert(`Isso aí! Você descobriu o número secreto! (${numeroSecreto}) com ${tentativas} tentativas`);\n",
    "}"
   ]
  },
  {
   "cell_type": "markdown",
   "metadata": {},
   "source": [
    "#### Código usando Operador Ternário"
   ]
  },
  {
   "cell_type": "code",
   "execution_count": null,
   "metadata": {
    "vscode": {
     "languageId": "javascript"
    }
   },
   "outputs": [],
   "source": [
    "alert('Boas vindas ao jogo do número secreto');\n",
    "// Trate variaveis como o envelope que armazena o número secreto\n",
    "let numeroSecreto = 29;\n",
    "// Imprimir informações no lugar \"secreto\" dos devs\n",
    "console.log(`Número secreto: ${numeroSecreto}`);\n",
    "// Prompt é emite um alerta ao usuário e coleta sua resposta\n",
    "// Agora, armazenaremos seu retorno na variavel \"chute\"\n",
    "let chute;\n",
    "let tentativas = 1;\n",
    "\n",
    "while (chute != numeroSecreto) {\n",
    "    chute = prompt('Escolha um número entre 1 a 30');\n",
    "    if (chute == numeroSecreto) {\n",
    "        break;\n",
    "    } else {\n",
    "        if (chute < numeroSecreto) {\n",
    "            alert(`O número é maior do que ${chute}`);\n",
    "        } else {\n",
    "            alert(`O número é menor do que ${chute}`);\n",
    "        }\n",
    "        tentativas++;\n",
    "    }\n",
    "}\n",
    "\n",
    "// APLICANDO OPERADOR TERNÁRIO\n",
    "let palavraTentativa = tentativas > 1 ? 'tentativas' : 'tentativa';\n",
    "alert(`Isso aí! Você descobriu o número secreto! (${numeroSecreto}) com ${tentativas} ${palavraTentativa}`);\n"
   ]
  },
  {
   "cell_type": "markdown",
   "metadata": {},
   "source": [
    "### Math random\n",
    "Recomendou-se, em primeiro lugar, buscar na documentação oficial quando se deseja ver o que a linguagem faz ou alguma consulta específica: [Link da documentação do Mozilla](https://developer.mozilla.org/pt-BR/docs/Web/JavaScript)\n",
    "\n",
    "Na documentação, informa-se que `Math.random` retorna um valor de `0 < 1`, ou seja, um número de 0 a menor que 1 mas não incluindo 1. Ou seja, retorna-se 0.102312, 0.1221308, 0.981391\n",
    "\n",
    "#### Aumentando a casa decimal\n",
    "Para aumentarmos a casa decimal, fazemos `Math.random * 10`, retornando 1.02312, 1.221308, 9.81391.\n",
    "\n",
    "#### Pegando só a parte inteira\n",
    "Para não coletarmos a parte decimal, utilizamos `parseInt()` para pegarmos apenas sua parte inteira:\n",
    "- `parseInt(Math.random * 10)`\n",
    "\n",
    "Agora, para pegarmos um valor de 1 a 10, só somamos com + 1:\n",
    "- `parseInt(Math.random * 10 + 1)`\n",
    "\n",
    "Numero de 1 a 100:\n",
    "- `parseInt(Math.random * 100 + 1)`\n",
    "\n",
    "Alteração que eu fiz, para refletir no prompt foi a variável `numeroMaximo`.\n",
    "\n",
    "#### Código produzido em aula"
   ]
  },
  {
   "cell_type": "code",
   "execution_count": null,
   "metadata": {
    "vscode": {
     "languageId": "javascript"
    }
   },
   "outputs": [],
   "source": [
    "alert('Boas vindas ao jogo do número secreto');\n",
    "let numeroMaximo = 100;\n",
    "// Trate variaveis como o envelope que armazena o número secreto\n",
    "let numeroSecreto = parseInt(Math.random() * numeroMaximo + 1);\n",
    "// Imprimir informações no lugar \"secreto\" dos devs\n",
    "console.log(`Número secreto: ${numeroSecreto}`);\n",
    "// Prompt é emite um alerta ao usuário e coleta sua resposta\n",
    "// Agora, armazenaremos seu retorno na variavel \"chute\"\n",
    "let chute;\n",
    "let tentativas = 1;\n",
    "\n",
    "while (chute != numeroSecreto) {\n",
    "    chute = prompt(`Escolha um número entre 1 a ${numeroMaximo}`);\n",
    "    if (chute == numeroSecreto) {\n",
    "        break;\n",
    "    } else {\n",
    "        if (chute < numeroSecreto) {\n",
    "            alert(`O número é maior do que ${chute}`);\n",
    "        } else {\n",
    "            alert(`O número é menor do que ${chute}`);\n",
    "        }\n",
    "        tentativas++;\n",
    "    }\n",
    "}\n",
    "\n",
    "let palavraTentativa = tentativas > 1 ? 'tentativas' : 'tentativa';\n",
    "alert(`Isso aí! Você descobriu o número secreto! (${numeroSecreto}) com ${tentativas} ${palavraTentativa}`);\n"
   ]
  },
  {
   "cell_type": "markdown",
   "metadata": {},
   "source": [
    "## DICA PRA ABRIR CONSOLE NO NAVEGAR\n",
    "- `F12`: Abre o console do navegador;\n",
    "- `CTRL + SHIFT + C`: Seleciona elemento."
   ]
  }
 ],
 "metadata": {
  "language_info": {
   "name": "python"
  }
 },
 "nbformat": 4,
 "nbformat_minor": 2
}
