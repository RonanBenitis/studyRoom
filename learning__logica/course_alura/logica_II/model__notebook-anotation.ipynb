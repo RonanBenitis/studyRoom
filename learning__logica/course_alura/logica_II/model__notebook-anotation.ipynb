{
 "cells": [
  {
   "cell_type": "markdown",
   "metadata": {},
   "source": [
    "# <span style=\"color: #87BBA2\">===   Lógica de programação: explore funções e listas   ===</span>\n",
    "\n",
    "## <span style=\"color: #87BBA2\">01. Interagindo com HTML</span>\n",
    "\n",
    "### MANIPULANDO TEXTO\n",
    "O que é o `document`?\n",
    "- É a instrução ao JavaScript para consultar todo documento HTML o qual ele está atrelado.\n",
    "\n",
    "#### Código produzido em aula"
   ]
  },
  {
   "cell_type": "code",
   "execution_count": null,
   "metadata": {
    "vscode": {
     "languageId": "javascript"
    }
   },
   "outputs": [],
   "source": [
    "let titulo = document.querySelector('h1');\n",
    "titulo.innerHTML = 'Jogo do Número Secreto';\n",
    "\n",
    "let paragrafo = document.querySelector('p');\n",
    "paragrafo.innerHTML = 'Escolha um número entre 1 a 10';"
   ]
  },
  {
   "cell_type": "markdown",
   "metadata": {},
   "source": [
    "##### O que está acontecendo acima? (Interpretação Ronan)\n",
    "Utilizamos o `.` para acessar ou manipular elementos internos ao objeto a sua esquerda, no caso está sendo o `document`. Isso, até onde sei, é chamado de `DOM`.\n",
    "\n",
    "No caso, estamos usando o `querySelector` para selecionar todas as tags `h1` e tags `p`, por isso, não estamos usando nem `.` nem `#`, pois se não seria `classe` ou `id`.\n",
    "- Em outros cursos, selecionar tag não é recomendado, mas creio que é só para demonstração.\n",
    "\n",
    "Após selecionar as tags, pegamos a variável e acessamos um atributo interno sendo `innerHTML`, ou seja, estamos acessando o conteúdo interno do HTML de `titulo` (que é o `document.querySelector('h1')`) e `paragrafo` (que é `document.querySelector('p')`) e em seguida, atribuindo novos valores a eles."
   ]
  },
  {
   "cell_type": "markdown",
   "metadata": {},
   "source": [
    "### CRIANDO UMA FUNÇÃO\n",
    "\n",
    "O que é de/para?\n",
    "- Pode ser, por exemplo, quando queremos dizer que é **de** alguma coisa **para** outra coisa, como do **do** HTML **para** o JavaScript.\n",
    "  - O HTML precisa chamar algo para outra coisa acontecer quando o botão for clidado (no caso, HTML chama o JavaScript)\n",
    "\n",
    "#### Função\n",
    "Trecho de código que executa ou possui uma responsabilidade, ou seja, que seja responsável por uma determinada ação.\n",
    "\n",
    "Trata-se de uma sequência de códigos que serão executados quando chamados, pedindo ou não parametros para sua execução o qual pode ou não realizar retornos.\n",
    "\n",
    "#### Importante para Função\n",
    "- Toda função inicia com o comando \"function\" antes de seu nome;\n",
    "- Seu nome, em camelCase, é muito importante ter uma nomenclatura clara e não genérica\n",
    "  - Isso é uma boa pratica. O código roda se deixarmos o nome de uma função como `function x(){}`, mas o ideal seria seu nome descrever brevemente o que ocorrerá, como `function somaPreco(){}`;\n",
    "- Escopo: Corpo da função;\n",
    "- Responsabilidade unica: É ideal que cada função tenha uma única responsabilidade. Evite funções com multiplas responsabilidades.\n",
    "\n",
    "#### Parametro onclick no HTML\n",
    "No nosso HTML conseguimos ver o parametro `onclick` na tag button. Esse parametro faz com que chamemos uma função no JavaScript quando este botão for clicado."
   ]
  },
  {
   "cell_type": "markdown",
   "metadata": {},
   "source": [
    "## <span style=\"color: #87BBA2\">02. Funções</span>\n",
    "\n",
    "### FUNÇÕES COM PARAMETROS\n",
    "\n",
    "Parametros são variáveis pré-declaradas dentro dos parenteses de uma função que são atribuidas pelos valores de quem chama essa função, transferindo-as para seu escopo. Ou seja, são os valores que uma função espera receber sem saber qual exatamente é seu valor, apenas as suas caracteristicas.\n",
    "\n",
    "Aplicamos funções com parametros em nosso projeto para reduzir a repetição de código, onde, **evitar repetição de código é uma boa pratica**.\n"
   ]
  },
  {
   "cell_type": "markdown",
   "metadata": {},
   "source": [
    "### FUNÇÕES COM RETORNO\n",
    "\n",
    "Funções com retorno são funções que não apenas executam uma sequência de instruções, mas, tambem devolvem ou retornam uma resposta específica que pode ser capturado por outras variáveis ou até ser utilizada como parametro também.\n",
    "\n",
    "Por exemplo, uma função para realizar soma é ideal que retorne seu resultado caso queiramos que alguém a utilize, pois, caso nós simplesmente realizarmos a soma, o seu resultado ficará armazenado internamente no escopo da função e perdida caso não utilizada.\n",
    "\n",
    "Utilizando o comando `return`, conseguimos \"empurrar\" algum valor desejado para fora da função e que pode ser coletada por outros.\n",
    "\n",
    "```JAVASCRIPT\n",
    "// A variavel numAleatorio passa a receber um numero aleatorio gerado e retornado pela função\n",
    "let numAleatorio = gerarNumAleat;\n",
    "\n",
    "function gerarNumAleat() {\n",
    "    return parseInt(Math.random() * 10 + 1);\n",
    "}\n",
    "```"
   ]
  },
  {
   "cell_type": "markdown",
   "metadata": {},
   "source": [
    "## IMPORTANTE: CHAMANDO FUNÇÕES COM PARENTESES E SEM PARENTESES\n",
    "\n",
    "### By GPT\n",
    "No JavaScript, a diferença entre chamar uma função com parênteses (por exemplo, `minhaFuncao()`) e sem parênteses (por exemplo, `minhaFuncao`) está no que você deseja fazer: **executar a função imediatamente** ou **referenciar a função para ser executada posteriormente**.\n",
    "\n",
    "- **Com parênteses (`minhaFuncao()`)**: Quando você chama uma função com parênteses, você está **executando a função imediatamente** e o valor retornado pela função é usado.\n",
    "\n",
    "- **Sem parênteses (`minhaFuncao`)**: Quando você chama uma função sem parênteses, você está **referenciando a função**, mas não a está executando. Isso é útil quando você deseja passar a função como um argumento para outra função ou método, para ser chamada posteriormente. Isso é comum em programação assíncrona, como callbacks ou Promises.\n",
    "\n",
    "Aqui está um exemplo para ilustrar:\n",
    "\n",
    "```javascript\n",
    "function saudacao() {\n",
    "  console.log(\"Olá!\");\n",
    "}\n",
    "\n",
    "// Executa a função imediatamente\n",
    "saudacao(); // Saída: \"Olá!\"\n",
    "\n",
    "// Referencia a função para ser executada posteriormente\n",
    "setTimeout(saudacao, 1000); // Saída: \"Olá!\" após 1 segundo\n",
    "```\n",
    "\n",
    "No primeiro caso, `saudacao()` é chamado imediatamente. No segundo caso, `saudacao` é passado para `setTimeout` como uma referência de função, e `setTimeout` chama `saudacao` após 1 segundo. Se tivéssemos usado `saudacao()` em vez de `saudacao` no `setTimeout`, a função teria sido chamada imediatamente, e não após 1 segundo. Espero que isso esclareça sua dúvida! 😊"
   ]
  },
  {
   "cell_type": "markdown",
   "metadata": {},
   "source": [
    "### TIPO BOOLEANO E BUSCANDO HTML\n",
    "\n",
    "Booleano é um valor que pode ser verdadeiro ou falso.\n",
    "- Na duvida, em aula, ensinaram a sempre pesquisar a documentação. No caso, pesquisaram por \"false javascript\" e acessará o [link da Mozilla explicando sobre valores boolean.](https://developer.mozilla.org/pt-BR/docs/Web/JavaScript/Reference/Global_Objects/Boolean)\n",
    "\n"
   ]
  },
  {
   "cell_type": "markdown",
   "metadata": {},
   "source": [
    "## <span style=\"color: #87BBA2\">03. Reiniciando o jogo</span>\n",
    "\n",
    "### BOTÃO REINICIAR\n",
    "\n",
    "#### Diferença entre os usos do .value e armazenamento em variavel"
   ]
  },
  {
   "cell_type": "code",
   "execution_count": null,
   "metadata": {
    "vscode": {
     "languageId": "javascript"
    }
   },
   "outputs": [],
   "source": [
    "function limparCampo() {\n",
    "    // Podemos fazer assim:\n",
    "    chute = document.querySelector('input');\n",
    "    chute.value = '';\n",
    "\n",
    "    // Ou assim:\n",
    "    document.querySelector('input').value = ''\n",
    "\n",
    "    // Mas não assim:\n",
    "    chute = document.querySelector('input').value;\n",
    "    chute = '';\n",
    "\n",
    "    /*\n",
    "    Pois, atribuição de uma variável é reservar seu valor OU endereço\n",
    "    dentro de outro campo. Quando fazemos document.value em uma variavel,\n",
    "    estamos armazenando seu VALOR e ao realizar a variavel = '', estamos\n",
    "    apagando o VALOR que a variavel recebeu.\n",
    "    > Exemplo: Seria como se pegassemos em um outro papel o número de uma\n",
    "    casa mas somente o número e pedimos para outra pessoa altera-lo, mas\n",
    "    sem passar o contexto deste número. A pessoa altera, e ficou por ai.\n",
    "\n",
    "    Quando atribuimos document.querySelector() em uma variavel, estamos\n",
    "    armazendo SEU ENDEREÇO, suas caracteristicas, não somente seu valor,\n",
    "    possibilitando, então, que façamos variavel.value = '' e que realizará\n",
    "    a manipulação do conteúdo com sucesso.\n",
    "    > Exemplo: Aqui copiamos em um outro papel o endereço com o número da\n",
    "    casa, e depois, pedimos para alguém alterar o número da casa. Como\n",
    "    agora a pessoa tem um contexto, ela retorna a alteração do número\n",
    "    da casa com todo o contexto do endereço.\n",
    "\n",
    "    Da mesma forma podemos fazer document.querySelector().value = '',\n",
    "    também funcionará pois estamos pegando o endereço completo e alterando\n",
    "    seu valor.\n",
    "    > Exemplo: Aqui nem copiamos em um papelzinho, já passamos explicitamente\n",
    "    o endereço completo pra outra pessoa que alterará o número e retornará\n",
    "    para nós todo o contexto. Fica mais \"poluido\", mas é mais explicito.\n",
    "    */\n",
    "}"
   ]
  },
  {
   "cell_type": "markdown",
   "metadata": {},
   "source": [
    "#### Retirando o disabled de um botão HTML\n",
    "Para retirar o disabled, que torna o botão inoperante, vamos utilizar o `.getElementById()`, pois, se usarmos o `.querySelector()` buscando uma tag, será pega a primeira tag (que é outro botão, e não o que queremos)."
   ]
  },
  {
   "cell_type": "markdown",
   "metadata": {},
   "source": [
    "### REINICIANDO O JOGO\n",
    "\n",
    "Aqui, um conceito importante foi aplicado novamente: Evitar repetição de código e, agora, auxiliar na manutenção do código através de função.\n",
    "\n",
    "Transformamos o texto inicial em função para auxiliar no momento de reiniciarmos o jogo. Caso fizessemos um ctrl + c e ctrl + v, se por ventura precisassemos alterar o texto inicial precisariamos alterar em mais de um lugar E lembrar que está em outro lugar também. Isso pode resultar em bugs passarem desapercebido ou aumentar o tempo de manutenção caso for necessario realiza-la."
   ]
  },
  {
   "cell_type": "code",
   "execution_count": null,
   "metadata": {
    "vscode": {
     "languageId": "javascript"
    }
   },
   "outputs": [],
   "source": [
    "function exibirMensagemInicial() {\n",
    "    exibirTextoNaTela('h1', 'Jogo do Número Secreto');\n",
    "    exibirTextoNaTela('p', 'Escolha um número entre 1 a 10');\n",
    "}\n",
    "\n",
    "exibirMensagemInicial();\n",
    "\n",
    "function reiniciarJogo() {\n",
    "    numeroSecreto = gerarNumeroAleatorio();\n",
    "    exibirMensagemInicial();\n",
    "    limparCampo();\n",
    "    tentativas = 1;\n",
    "    document.getElementById('reiniciar').setAttribute('disabled', true);\n",
    "    document.getElementById('chutar').removeAttribute('disabled');\n",
    "}"
   ]
  },
  {
   "cell_type": "markdown",
   "metadata": {},
   "source": [
    "## <span style=\"color: #87BBA2\">04. Listas</span>\n",
    "\n",
    "### IMPLEMENTANDO A LISTA\n",
    "Utilizaremos Array (lista) para verificar se o número sorteado já foi sorteado anteriormente.\n",
    "\n",
    "Para isso, refatoraremos `gerarNumeroAleatorio()`."
   ]
  },
  {
   "cell_type": "code",
   "execution_count": null,
   "metadata": {
    "vscode": {
     "languageId": "javascript"
    }
   },
   "outputs": [],
   "source": [
    "function gerarNumeroAleatorio() {\n",
    "    let numeroEscolhido = parseInt(Math.random() * 10 + 1);\n",
    "    /*\n",
    "    Quando se deparar com algum problema ou querer realizar alguma ação, sempre bom\n",
    "    verificar a documentação da linguagem, pois, muitos deste problemas/ações já\n",
    "    foram passados por diversas outras pessoas e já foi inserido na documentação da\n",
    "    linguagem. Outro recurso é em fóruns como Stackoverflow.\n",
    "    */\n",
    "    if (listaNumerosSorteados.includes(numeroEscolhido)) {\n",
    "        return gerarNumeroAleatorio(); // recursão\n",
    "    } else {\n",
    "        listaNumerosSorteados.push(numeroEscolhido); // Empurra para o final da lista\n",
    "        return numeroEscolhido;\n",
    "    }\n",
    "}"
   ]
  },
  {
   "cell_type": "markdown",
   "metadata": {},
   "source": [
    "#### RECURSIVIDADE\n",
    "\n",
    "Recursão é basicamente uma ação que chama ela mesma, ou seja, uma função que, dentro dela mesma chama novamente ela própria.\n",
    "\n",
    "É uma ferramenta muito poderosa mas ideal tomarmos cuidado. Como o escopo do nosso projeto é pequeno, não há problema, mas se o escopo fosse muito grande (tipo, 50 mil números), imagine que lista que a função está alimentando tenha apenas 1 número disponivel para ser inserido (os demais números já foram sorteados), ou seja, só se pode inserir um número que não está na lista, o programa ficará tentando gerar um numero aleatório (com 50 mil opções) até chegar no número que falta, e tentará fazer isso de forma **aleatória**, pois nossa função não faz validações a mais. A operação tomará muito tempo de máquina tornando-se impraticável."
   ]
  },
  {
   "cell_type": "markdown",
   "metadata": {},
   "source": [
    "## <span style=\"color: #87BBA2\">05. Publicando o projeto</span>\n",
    "\n",
    "### SPEECH\n",
    "No projeto, no index.html, foi importado o script do `Responsive Voice`, que faz a leitura de textos conforme o preenchimento dos parametros internos.\n",
    "\n",
    "Chamamos uma função do responsiveVoice.speak() e adicionamos seus parametros.\n",
    "\n",
    "Aparentemente, Responsive Voice não é suportado no Edge.\n",
    "\n",
    "### COLOCANDO NO AR O PROJETO\n",
    "\n",
    "Agora, para podermos disponibilizar para outras pessoas utilizarem o projeto criado, subimos o projeto no GitHub e, utilizando a [Vercel](https://vercel.com/), indicamos qual repositório do GitHub desejamos subir para teste e pronto, temos o link do projeto operando."
   ]
  },
  {
   "cell_type": "markdown",
   "metadata": {},
   "source": []
  }
 ],
 "metadata": {
  "language_info": {
   "name": "python"
  }
 },
 "nbformat": 4,
 "nbformat_minor": 2
}
