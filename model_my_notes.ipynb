{
 "cells": [
  {
   "cell_type": "markdown",
   "metadata": {},
   "source": [
    "# <span style=\"color: #87BBA2\">===   AULA   ===</span>\n",
    "\n",
    "## <span style=\"color: #87BBA2\">Aula XX: TituloAula</span>\n",
    "\n",
    "### Capitulo\n",
    "Lorem ipsum dolor sit amet, consectetur elit. Quest, avatar e power-up, nec sagittis dui massa a level up. Save point, respawn e co-op, vestibulum ante ipsum primis in faucibus orci luctus et ultrices posuere cubilia Curae; Boss fight, glitch e easter egg, sed consequat, sapien varius viverra raid, loot drop vel metus. MMORPG, NPC, e AFK, justo pellentesque risus, a guilda augue justo eget diam. Multiplayer, sandbox e platformer, quisque volutpat condimentum velit. Class aptent taciti sociosqu ad litora torquent per conubia nostra, per inceptos himenaeos. Achievement unlocked!"
   ]
  },
  {
   "cell_type": "code",
   "execution_count": null,
   "metadata": {},
   "outputs": [],
   "source": [
    "# This snipet is in <programming-language-type>\n",
    "\n"
   ]
  }
 ],
 "metadata": {
  "language_info": {
   "name": "python"
  }
 },
 "nbformat": 4,
 "nbformat_minor": 2
}
